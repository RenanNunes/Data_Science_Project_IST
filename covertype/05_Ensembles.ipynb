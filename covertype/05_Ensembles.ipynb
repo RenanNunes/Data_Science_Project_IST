{
 "cells": [
  {
   "cell_type": "markdown",
   "metadata": {},
   "source": [
    "# 05 - Emsembles\n",
    "\n",
    "Emsemble models uses a divide-and-conquer approach, combining multiple models to get a better one.\n",
    "\n",
    "The emseble models that will be analyzed are Random Forests and Gradient Boosting.\n",
    "\n",
    "## Random Forests\n",
    "\n",
    "Each classifier in the ensemble is a decision tree, trained over a resample with replacement of the original dataset and using a random selection of the variables to determine the best split."
   ]
  },
  {
   "cell_type": "code",
   "execution_count": 1,
   "metadata": {},
   "outputs": [],
   "source": [
    "import os\n",
    "import sys\n",
    "module_path = os.path.abspath(os.path.join('..'))\n",
    "if module_path not in sys.path:\n",
    "    sys.path.append(module_path)"
   ]
  },
  {
   "cell_type": "code",
   "execution_count": 2,
   "metadata": {},
   "outputs": [],
   "source": [
    "import numpy as np\n",
    "import pandas as pd\n",
    "# import matplotlib.pyplot as plt\n",
    "from sklearn.model_selection import RepeatedStratifiedKFold\n",
    "# import sklearn.metrics as metrics\n",
    "# from sklearn.ensemble import RandomForestClassifier\n",
    "from utils import modelAnalyzesFunctions as analyzes"
   ]
  },
  {
   "cell_type": "code",
   "execution_count": 3,
   "metadata": {},
   "outputs": [
    {
     "data": {
      "text/html": [
       "<div>\n",
       "<style scoped>\n",
       "    .dataframe tbody tr th:only-of-type {\n",
       "        vertical-align: middle;\n",
       "    }\n",
       "\n",
       "    .dataframe tbody tr th {\n",
       "        vertical-align: top;\n",
       "    }\n",
       "\n",
       "    .dataframe thead th {\n",
       "        text-align: right;\n",
       "    }\n",
       "</style>\n",
       "<table border=\"1\" class=\"dataframe\">\n",
       "  <thead>\n",
       "    <tr style=\"text-align: right;\">\n",
       "      <th></th>\n",
       "      <th>Elevation</th>\n",
       "      <th>Aspect</th>\n",
       "      <th>Slope</th>\n",
       "      <th>Horizontal_Distance_To_Hydrology</th>\n",
       "      <th>Vertical_Distance_To_Hydrology</th>\n",
       "      <th>Horizontal_Distance_To_Roadways</th>\n",
       "      <th>Hillshade_9am</th>\n",
       "      <th>Hillshade_Noon</th>\n",
       "      <th>Hillshade_3pm</th>\n",
       "      <th>Horizontal_Distance_To_Fire_Points</th>\n",
       "      <th>...</th>\n",
       "      <th>Soil_Type-32</th>\n",
       "      <th>Soil_Type-33</th>\n",
       "      <th>Soil_Type-34</th>\n",
       "      <th>Soil_Type-35</th>\n",
       "      <th>Soil_Type-36</th>\n",
       "      <th>Soil_Type-37</th>\n",
       "      <th>Soil_Type-38</th>\n",
       "      <th>Soil_Type-39</th>\n",
       "      <th>Soil_Type-40</th>\n",
       "      <th>Cover_Type</th>\n",
       "    </tr>\n",
       "  </thead>\n",
       "  <tbody>\n",
       "    <tr>\n",
       "      <th>0</th>\n",
       "      <td>0.546773</td>\n",
       "      <td>0.200000</td>\n",
       "      <td>0.454545</td>\n",
       "      <td>0.047960</td>\n",
       "      <td>0.272610</td>\n",
       "      <td>0.367290</td>\n",
       "      <td>0.937008</td>\n",
       "      <td>0.665354</td>\n",
       "      <td>0.161417</td>\n",
       "      <td>0.308518</td>\n",
       "      <td>...</td>\n",
       "      <td>0.0</td>\n",
       "      <td>1.0</td>\n",
       "      <td>0.0</td>\n",
       "      <td>0.0</td>\n",
       "      <td>0.0</td>\n",
       "      <td>0.0</td>\n",
       "      <td>0.0</td>\n",
       "      <td>0.0</td>\n",
       "      <td>0.0</td>\n",
       "      <td>1</td>\n",
       "    </tr>\n",
       "    <tr>\n",
       "      <th>1</th>\n",
       "      <td>0.637819</td>\n",
       "      <td>0.891667</td>\n",
       "      <td>0.090909</td>\n",
       "      <td>0.064424</td>\n",
       "      <td>0.223514</td>\n",
       "      <td>0.105381</td>\n",
       "      <td>0.803150</td>\n",
       "      <td>0.921260</td>\n",
       "      <td>0.665354</td>\n",
       "      <td>0.158929</td>\n",
       "      <td>...</td>\n",
       "      <td>0.0</td>\n",
       "      <td>0.0</td>\n",
       "      <td>0.0</td>\n",
       "      <td>0.0</td>\n",
       "      <td>0.0</td>\n",
       "      <td>0.0</td>\n",
       "      <td>0.0</td>\n",
       "      <td>0.0</td>\n",
       "      <td>0.0</td>\n",
       "      <td>1</td>\n",
       "    </tr>\n",
       "    <tr>\n",
       "      <th>2</th>\n",
       "      <td>0.716858</td>\n",
       "      <td>0.163889</td>\n",
       "      <td>0.287879</td>\n",
       "      <td>0.125268</td>\n",
       "      <td>0.232558</td>\n",
       "      <td>0.593790</td>\n",
       "      <td>0.905512</td>\n",
       "      <td>0.771654</td>\n",
       "      <td>0.354331</td>\n",
       "      <td>0.500209</td>\n",
       "      <td>...</td>\n",
       "      <td>0.0</td>\n",
       "      <td>0.0</td>\n",
       "      <td>0.0</td>\n",
       "      <td>0.0</td>\n",
       "      <td>0.0</td>\n",
       "      <td>0.0</td>\n",
       "      <td>0.0</td>\n",
       "      <td>0.0</td>\n",
       "      <td>0.0</td>\n",
       "      <td>1</td>\n",
       "    </tr>\n",
       "    <tr>\n",
       "      <th>3</th>\n",
       "      <td>0.549775</td>\n",
       "      <td>0.133333</td>\n",
       "      <td>0.106061</td>\n",
       "      <td>0.021475</td>\n",
       "      <td>0.228682</td>\n",
       "      <td>0.437544</td>\n",
       "      <td>0.877953</td>\n",
       "      <td>0.885827</td>\n",
       "      <td>0.543307</td>\n",
       "      <td>0.157814</td>\n",
       "      <td>...</td>\n",
       "      <td>0.0</td>\n",
       "      <td>0.0</td>\n",
       "      <td>0.0</td>\n",
       "      <td>0.0</td>\n",
       "      <td>0.0</td>\n",
       "      <td>0.0</td>\n",
       "      <td>0.0</td>\n",
       "      <td>0.0</td>\n",
       "      <td>0.0</td>\n",
       "      <td>1</td>\n",
       "    </tr>\n",
       "    <tr>\n",
       "      <th>4</th>\n",
       "      <td>0.699850</td>\n",
       "      <td>0.519444</td>\n",
       "      <td>0.121212</td>\n",
       "      <td>0.336435</td>\n",
       "      <td>0.295866</td>\n",
       "      <td>0.360264</td>\n",
       "      <td>0.870079</td>\n",
       "      <td>0.968504</td>\n",
       "      <td>0.625984</td>\n",
       "      <td>0.191552</td>\n",
       "      <td>...</td>\n",
       "      <td>0.0</td>\n",
       "      <td>1.0</td>\n",
       "      <td>0.0</td>\n",
       "      <td>0.0</td>\n",
       "      <td>0.0</td>\n",
       "      <td>0.0</td>\n",
       "      <td>0.0</td>\n",
       "      <td>0.0</td>\n",
       "      <td>0.0</td>\n",
       "      <td>1</td>\n",
       "    </tr>\n",
       "  </tbody>\n",
       "</table>\n",
       "<p>5 rows × 55 columns</p>\n",
       "</div>"
      ],
      "text/plain": [
       "   Elevation    Aspect     Slope  Horizontal_Distance_To_Hydrology  \\\n",
       "0   0.546773  0.200000  0.454545                          0.047960   \n",
       "1   0.637819  0.891667  0.090909                          0.064424   \n",
       "2   0.716858  0.163889  0.287879                          0.125268   \n",
       "3   0.549775  0.133333  0.106061                          0.021475   \n",
       "4   0.699850  0.519444  0.121212                          0.336435   \n",
       "\n",
       "   Vertical_Distance_To_Hydrology  Horizontal_Distance_To_Roadways  \\\n",
       "0                        0.272610                         0.367290   \n",
       "1                        0.223514                         0.105381   \n",
       "2                        0.232558                         0.593790   \n",
       "3                        0.228682                         0.437544   \n",
       "4                        0.295866                         0.360264   \n",
       "\n",
       "   Hillshade_9am  Hillshade_Noon  Hillshade_3pm  \\\n",
       "0       0.937008        0.665354       0.161417   \n",
       "1       0.803150        0.921260       0.665354   \n",
       "2       0.905512        0.771654       0.354331   \n",
       "3       0.877953        0.885827       0.543307   \n",
       "4       0.870079        0.968504       0.625984   \n",
       "\n",
       "   Horizontal_Distance_To_Fire_Points  ...  Soil_Type-32  Soil_Type-33  \\\n",
       "0                            0.308518  ...           0.0           1.0   \n",
       "1                            0.158929  ...           0.0           0.0   \n",
       "2                            0.500209  ...           0.0           0.0   \n",
       "3                            0.157814  ...           0.0           0.0   \n",
       "4                            0.191552  ...           0.0           1.0   \n",
       "\n",
       "   Soil_Type-34  Soil_Type-35  Soil_Type-36  Soil_Type-37  Soil_Type-38  \\\n",
       "0           0.0           0.0           0.0           0.0           0.0   \n",
       "1           0.0           0.0           0.0           0.0           0.0   \n",
       "2           0.0           0.0           0.0           0.0           0.0   \n",
       "3           0.0           0.0           0.0           0.0           0.0   \n",
       "4           0.0           0.0           0.0           0.0           0.0   \n",
       "\n",
       "   Soil_Type-39  Soil_Type-40  Cover_Type  \n",
       "0           0.0           0.0           1  \n",
       "1           0.0           0.0           1  \n",
       "2           0.0           0.0           1  \n",
       "3           0.0           0.0           1  \n",
       "4           0.0           0.0           1  \n",
       "\n",
       "[5 rows x 55 columns]"
      ]
     },
     "execution_count": 3,
     "metadata": {},
     "output_type": "execute_result"
    }
   ],
   "source": [
    "data: pd.DataFrame = pd.read_csv('../datasets/covtype_data_preparation.csv', sep=',', decimal='.')\n",
    "copy_data = data.copy()\n",
    "y: np.ndarray = copy_data.pop('Cover_Type').values\n",
    "X: np.ndarray = copy_data.values\n",
    "labels = pd.unique(y)\n",
    "\n",
    "data.head()"
   ]
  },
  {
   "cell_type": "code",
   "execution_count": 4,
   "metadata": {},
   "outputs": [],
   "source": [
    "n_splits = 4\n",
    "n_repeats = 3\n",
    "\n",
    "rskf = RepeatedStratifiedKFold(n_splits, n_repeats, random_state=42)\n",
    "\n",
    "n_estimators = [5, 10, 25, 50, 75, 100, 150, 200, 250, 300]\n",
    "max_depths = [5, 10, 25, 50]\n",
    "max_features = ['sqrt', 'log2']"
   ]
  },
  {
   "cell_type": "code",
   "execution_count": 5,
   "metadata": {},
   "outputs": [
    {
     "name": "stdout",
     "output_type": "stream",
     "text": [
      "Baseline accuracy:  0.8396505751990366\n",
      "Baseline sensitivity:  0.8396505751990366\n"
     ]
    }
   ],
   "source": [
    "accuracy_rf, sensitivity_rf = analyzes.random_forest(X, y, rskf, average='micro')\n",
    "\n",
    "print(\"Baseline accuracy: \", accuracy_rf)\n",
    "print(\"Baseline sensitivity: \", sensitivity_rf)"
   ]
  },
  {
   "cell_type": "code",
   "execution_count": 6,
   "metadata": {},
   "outputs": [
    {
     "data": {
      "image/png": "[encoded data removed]",
      "text/plain": [
       "<Figure size 432x288 with 2 Axes>"
      ]
     },
     "metadata": {
      "needs_background": "light"
     },
     "output_type": "display_data"
    },
    {
     "name": "stdout",
     "output_type": "stream",
     "text": [
      "Max accuracy_rf_n_est\n",
      "Accuracy: 0.8692422502673053\n",
      "Sensitivity: 0.8692422502673053\n",
      "n_estimators: 250\n",
      "\n",
      "Max sensitivity\n",
      "Accuracy:  0.8692422502673053\n",
      "Sensitivity: 0.8692422502673053\n",
      "n_estimators: 250\n"
     ]
    }
   ],
   "source": [
    "accuracy_rf_n_est, sensitivity_rf_n_est = analyzes.random_forest_analyzes(X, y, n_estimators, \"n_estimators\", rskf, average='micro')\n",
    "\n",
    "print('Max accuracy_rf_n_est')\n",
    "print('Accuracy:', max(accuracy_rf_n_est.values()))\n",
    "print('Sensitivity:', sensitivity_rf_n_est[max(accuracy_rf_n_est, key=accuracy_rf_n_est.get)])\n",
    "best_n_estimators = max(accuracy_rf_n_est, key=accuracy_rf_n_est.get)\n",
    "print('n_estimators:', best_n_estimators)\n",
    "print()\n",
    "print('Max sensitivity')\n",
    "print('Accuracy: ', accuracy_rf_n_est[max(sensitivity_rf_n_est, key=sensitivity_rf_n_est.get)])\n",
    "print('Sensitivity:', max(sensitivity_rf_n_est.values()))\n",
    "print('n_estimators:', max(sensitivity_rf_n_est, key=sensitivity_rf_n_est.get))"
   ]
  },
  {
   "cell_type": "code",
   "execution_count": 7,
   "metadata": {},
   "outputs": [
    {
     "data": {
      "image/png": "[encoded data removed]",
      "text/plain": [
       "<Figure size 432x288 with 2 Axes>"
      ]
     },
     "metadata": {
      "needs_background": "light"
     },
     "output_type": "display_data"
    },
    {
     "name": "stdout",
     "output_type": "stream",
     "text": [
      "Max accuracy\n",
      "Accuracy: 0.8374485774466041\n",
      "Sensitivity: 0.8374485774466041\n",
      "max_depth: 50\n",
      "\n",
      "Max sensitivity\n",
      "Accuracy:  0.8374485774466041\n",
      "Sensitivity: 0.8374485774466041\n",
      "max_depth: 50\n"
     ]
    }
   ],
   "source": [
    "accuracy_rf_max_d, sensitivity_rf_max_d = analyzes.random_forest_analyzes(X, y, max_depths, \"max_depth\", rskf, average='micro')\n",
    "\n",
    "print('Max accuracy')\n",
    "print('Accuracy:', max(accuracy_rf_max_d.values()))\n",
    "print('Sensitivity:', sensitivity_rf_max_d[max(accuracy_rf_max_d, key=accuracy_rf_max_d.get)])\n",
    "best_max_depth = max(accuracy_rf_max_d, key=accuracy_rf_max_d.get)\n",
    "print('max_depth:', best_max_depth)\n",
    "print()\n",
    "print('Max sensitivity')\n",
    "print('Accuracy: ', accuracy_rf_max_d[max(sensitivity_rf_max_d, key=sensitivity_rf_max_d.get)])\n",
    "print('Sensitivity:', max(sensitivity_rf_max_d.values()))\n",
    "print('max_depth:', max(sensitivity_rf_max_d, key=sensitivity_rf_max_d.get))"
   ]
  },
  {
   "cell_type": "code",
   "execution_count": 8,
   "metadata": {},
   "outputs": [
    {
     "data": {
      "image/png": "[encoded data removed]",
      "text/plain": [
       "<Figure size 432x288 with 2 Axes>"
      ]
     },
     "metadata": {
      "needs_background": "light"
     },
     "output_type": "display_data"
    },
    {
     "name": "stdout",
     "output_type": "stream",
     "text": [
      "Max accuracy\n",
      "Accuracy: 0.8379872297669922\n",
      "Sensitivity: 0.8379872297669922\n",
      "max_features: sqrt\n",
      "\n",
      "Max sensitivity\n",
      "Accuracy:  0.8379872297669922\n",
      "Sensitivity: 0.8379872297669922\n",
      "max_features: sqrt\n"
     ]
    }
   ],
   "source": [
    "accuracy_rf_max_f, sensitivity_rf_max_f = analyzes.random_forest_analyzes(X, y, max_features, \"max_features\", rskf, average='micro')\n",
    "\n",
    "print('Max accuracy')\n",
    "print('Accuracy:', max(accuracy_rf_max_f.values()))\n",
    "print('Sensitivity:', sensitivity_rf_max_f[max(accuracy_rf_max_f, key=accuracy_rf_max_f.get)])\n",
    "best_max_features = max(accuracy_rf_max_f, key=accuracy_rf_max_f.get)\n",
    "print('max_features:', best_max_features)\n",
    "print()\n",
    "print('Max sensitivity')\n",
    "print('Accuracy: ', accuracy_rf_max_f[max(sensitivity_rf_max_f, key=sensitivity_rf_max_f.get)])\n",
    "print('Sensitivity:', max(sensitivity_rf_max_f.values()))\n",
    "print('max_features:', max(sensitivity_rf_max_f, key=sensitivity_rf_max_f.get))"
   ]
  },
  {
   "cell_type": "code",
   "execution_count": 9,
   "metadata": {},
   "outputs": [
    {
     "name": "stdout",
     "output_type": "stream",
     "text": [
      "Best accuracy:  0.8686011418499611\n",
      "Best sensitivity:  0.8686011418499611\n"
     ]
    }
   ],
   "source": [
    "accuracy_rf_b, sensitivity_rf_b = analyzes.random_forest(X, y, rskf, n_estimators=best_n_estimators, max_depth=best_max_depth, max_features=best_max_features, average='micro')\n",
    "\n",
    "print(\"Best accuracy: \", accuracy_rf_b)\n",
    "print(\"Best sensitivity: \", sensitivity_rf_b)"
   ]
  },
  {
   "cell_type": "markdown",
   "metadata": {},
   "source": [
    "We can see that, after a certain number of estimators, the accuracy stabilizes, the same happens with max_depth. So we could use `n_estimators = 50` and `max_depth = 25` to get a good result faster than using `n_estimators = 300`."
   ]
  },
  {
   "cell_type": "markdown",
   "metadata": {},
   "source": [
    "## Gradient Boosting\n",
    "\n",
    "Another model from the emsemble family is the Gradient Boosting. The main difference between it and the random forest is that this one is a boosting algorithm, which means that there are different weights for different models to try to classify better the dataset.\n",
    "\n",
    "Note: since the classification is not binary in this case, it was used a global metric (`average='micro'`) based on true positives and true negatives, that's why the accuracy and the sensitivity are the same."
   ]
  },
  {
   "cell_type": "code",
   "execution_count": 10,
   "metadata": {},
   "outputs": [],
   "source": [
    "n_splits = 4\n",
    "n_repeats = 3\n",
    "\n",
    "rskf = RepeatedStratifiedKFold(n_splits, n_repeats, random_state=42)"
   ]
  },
  {
   "cell_type": "code",
   "execution_count": 11,
   "metadata": {},
   "outputs": [
    {
     "name": "stdout",
     "output_type": "stream",
     "text": [
      "Accuracy: 0.7960014739936317\n",
      "Sensitivity: 0.7960014739936317\n"
     ]
    }
   ],
   "source": [
    "accuracy_gb, sensitivity_gb = analyzes.gradient_boosting(X, y, rskf, average='micro')\n",
    "\n",
    "print('Accuracy:', accuracy_gb)\n",
    "print('Sensitivity:', sensitivity_gb)"
   ]
  },
  {
   "cell_type": "code",
   "execution_count": 12,
   "metadata": {},
   "outputs": [
    {
     "data": {
      "image/png": "[encoded data removed]",
      "text/plain": [
       "<Figure size 432x288 with 2 Axes>"
      ]
     },
     "metadata": {
      "needs_background": "light"
     },
     "output_type": "display_data"
    },
    {
     "name": "stdout",
     "output_type": "stream",
     "text": [
      "Max accuracy\n",
      "Accuracy: 0.832128261695909\n",
      "Sensitivity: 0.832128261695909\n",
      "learning_rate: 0.5\n",
      "\n",
      "Max sensitivity\n",
      "Accuracy:  0.832128261695909\n",
      "Sensitivity: 0.832128261695909\n",
      "learning_rate: 0.5\n"
     ]
    }
   ],
   "source": [
    "learning_rate = [0.05, 0.1, 0.2, 0.25, 0.3, 0.5, 1]\n",
    "n_estimators = [5, 10, 25, 50, 75, 100, 150, 200, 250, 300]\n",
    "max_depths = [3, 5, 10, 25, 50]\n",
    "max_features = ['sqrt', 'log2']\n",
    "\n",
    "accuracy_gb_lr, sensitivity_gb_lr = analyzes.gradient_boosting_analyzes(X, y, learning_rate, 'learning_rate', rskf, average='micro')\n",
    "\n",
    "print('Max accuracy')\n",
    "print('Accuracy:', max(accuracy_gb_lr.values()))\n",
    "print('Sensitivity:', sensitivity_gb_lr[max(accuracy_gb_lr, key=accuracy_gb_lr.get)])\n",
    "best_learning_rate = max(accuracy_gb_lr, key=accuracy_gb_lr.get)\n",
    "print('learning_rate:', max(accuracy_gb_lr, key=accuracy_gb_lr.get))\n",
    "print()\n",
    "print('Max sensitivity')\n",
    "print('Accuracy: ', accuracy_gb_lr[max(sensitivity_gb_lr, key=sensitivity_gb_lr.get)])\n",
    "print('Sensitivity:', max(sensitivity_gb_lr.values()))\n",
    "print('learning_rate:', max(sensitivity_gb_lr, key=sensitivity_gb_lr.get))"
   ]
  },
  {
   "cell_type": "code",
   "execution_count": 13,
   "metadata": {},
   "outputs": [
    {
     "data": {
      "image/png": "[encoded data removed]",
      "text/plain": [
       "<Figure size 432x288 with 2 Axes>"
      ]
     },
     "metadata": {
      "needs_background": "light"
     },
     "output_type": "display_data"
    },
    {
     "name": "stdout",
     "output_type": "stream",
     "text": [
      "Max accuracy\n",
      "Accuracy: 0.8316769092451168\n",
      "Sensitivity: 0.8316769092451168\n",
      "n_estimators: 300\n",
      "\n",
      "Max sensitivity\n",
      "Accuracy:  0.8316769092451168\n",
      "Sensitivity: 0.8316769092451168\n",
      "n_estimators: 300\n"
     ]
    }
   ],
   "source": [
    "accuracy_gb_n_est, sensitivity_gb_n_est = analyzes.gradient_boosting_analyzes(X, y, n_estimators, 'n_estimators', rskf, average='micro')\n",
    "\n",
    "print('Max accuracy')\n",
    "print('Accuracy:', max(accuracy_gb_n_est.values()))\n",
    "print('Sensitivity:', sensitivity_gb_n_est[max(accuracy_gb_n_est, key=accuracy_gb_n_est.get)])\n",
    "best_n_estimators = max(accuracy_gb_n_est, key=accuracy_gb_n_est.get)\n",
    "print('n_estimators:', max(accuracy_gb_n_est, key=accuracy_gb_n_est.get))\n",
    "print()\n",
    "print('Max sensitivity')\n",
    "print('Accuracy: ', accuracy_gb_n_est[max(sensitivity_gb_n_est, key=sensitivity_gb_n_est.get)])\n",
    "print('Sensitivity:', max(sensitivity_gb_n_est.values()))\n",
    "print('n_estimators:', max(sensitivity_gb_n_est, key=sensitivity_gb_n_est.get))"
   ]
  },
  {
   "cell_type": "code",
   "execution_count": 14,
   "metadata": {},
   "outputs": [
    {
     "data": {
      "image/png": "[encoded data removed]",
      "text/plain": [
       "<Figure size 432x288 with 2 Axes>"
      ]
     },
     "metadata": {
      "needs_background": "light"
     },
     "output_type": "display_data"
    },
    {
     "name": "stdout",
     "output_type": "stream",
     "text": [
      "Max accuracy\n",
      "Accuracy: 0.8740252524976957\n",
      "Sensitivity: 0.8740252524976957\n",
      "max_depth: 10\n",
      "\n",
      "Max sensitivity\n",
      "Accuracy:  0.8740252524976957\n",
      "Sensitivity: 0.8740252524976957\n",
      "max_depth: 10\n"
     ]
    }
   ],
   "source": [
    "accuracy_gb_max_d, sensitivity_gb_max_d = analyzes.gradient_boosting_analyzes(X, y, max_depths, 'max_depth', rskf, average='micro')\n",
    "\n",
    "print('Max accuracy')\n",
    "print('Accuracy:', max(accuracy_gb_max_d.values()))\n",
    "print('Sensitivity:', sensitivity_gb_max_d[max(accuracy_gb_max_d, key=accuracy_gb_max_d.get)])\n",
    "best_max_depth = max(accuracy_gb_max_d, key=accuracy_gb_max_d.get)\n",
    "print('max_depth:', max(accuracy_gb_max_d, key=accuracy_gb_max_d.get))\n",
    "print()\n",
    "print('Max sensitivity')\n",
    "print('Accuracy: ', accuracy_gb_max_d[max(sensitivity_gb_max_d, key=sensitivity_gb_max_d.get)])\n",
    "print('Sensitivity:', max(sensitivity_gb_max_d.values()))\n",
    "print('max_depth:', max(sensitivity_gb_max_d, key=sensitivity_gb_max_d.get))"
   ]
  },
  {
   "cell_type": "code",
   "execution_count": 15,
   "metadata": {},
   "outputs": [
    {
     "data": {
      "image/png": "[encoded data removed]",
      "text/plain": [
       "<Figure size 432x288 with 2 Axes>"
      ]
     },
     "metadata": {
      "needs_background": "light"
     },
     "output_type": "display_data"
    },
    {
     "name": "stdout",
     "output_type": "stream",
     "text": [
      "Max accuracy\n",
      "Accuracy: 0.7714546755041618\n",
      "Sensitivity: 0.7714546755041618\n",
      "max_features: sqrt\n",
      "\n",
      "Max sensitivity\n",
      "Accuracy:  0.7714546755041618\n",
      "Sensitivity: 0.7714546755041618\n",
      "max_features: sqrt\n"
     ]
    }
   ],
   "source": [
    "accuracy_gb_max_f, sensitivity_gb_max_f = analyzes.gradient_boosting_analyzes(X, y, max_features, 'max_features', rskf, average='micro')\n",
    "\n",
    "print('Max accuracy')\n",
    "print('Accuracy:', max(accuracy_gb_max_f.values()))\n",
    "print('Sensitivity:', sensitivity_gb_max_f[max(accuracy_gb_max_f, key=accuracy_gb_max_f.get)])\n",
    "best_max_features = max(accuracy_gb_max_f, key=accuracy_gb_max_f.get)\n",
    "print('max_features:', max(accuracy_gb_max_f, key=accuracy_gb_max_f.get))\n",
    "print()\n",
    "print('Max sensitivity')\n",
    "print('Accuracy: ', accuracy_gb_max_f[max(sensitivity_gb_max_f, key=sensitivity_gb_max_f.get)])\n",
    "print('Sensitivity:', max(sensitivity_gb_max_f.values()))\n",
    "print('max_features:', max(sensitivity_gb_max_f, key=sensitivity_gb_max_f.get))"
   ]
  },
  {
   "cell_type": "code",
   "execution_count": 16,
   "metadata": {},
   "outputs": [
    {
     "name": "stdout",
     "output_type": "stream",
     "text": [
      "Best accuracy:  0.8599840687842139\n",
      "Best sensitivity:  0.8599840687842139\n"
     ]
    }
   ],
   "source": [
    "accuracy_gb_b, sensitivity_gb_b = analyzes.gradient_boosting(X, y, rskf, learning_rate=best_learning_rate, n_estimators=best_n_estimators, max_depth=best_max_depth, max_features=best_max_features, average='micro')\n",
    "\n",
    "print(\"Best accuracy: \", accuracy_gb_b)\n",
    "print(\"Best sensitivity: \", sensitivity_gb_b)"
   ]
  }
 ],
 "metadata": {
  "kernelspec": {
   "display_name": "Python 3",
   "language": "python",
   "name": "python3"
  },
  "language_info": {
   "codemirror_mode": {
    "name": "ipython",
    "version": 3
   },
   "file_extension": ".py",
   "mimetype": "text/x-python",
   "name": "python",
   "nbconvert_exporter": "python",
   "pygments_lexer": "ipython3",
   "version": "3.7.3"
  }
 },
 "nbformat": 4,
 "nbformat_minor": 2
}
