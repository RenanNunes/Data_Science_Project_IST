{
 "cells": [
  {
   "cell_type": "markdown",
   "metadata": {},
   "source": [
    "# Lab 8 - Feature Selection and Principal Component Analysis (PCA)\n",
    "\n",
    "Here, we will analyze the impact of dimensionality by running one model with some selected features and then with some extracted features. The model selected is Random Forest with the estimators considered the \"best\" on the lab_05 tests, because it gave us the best results so far."
   ]
  },
  {
   "cell_type": "code",
   "execution_count": 1,
   "metadata": {},
   "outputs": [],
   "source": [
    "import os\n",
    "import sys\n",
    "module_path = os.path.abspath(os.path.join('..'))\n",
    "if module_path not in sys.path:\n",
    "    sys.path.append(module_path)"
   ]
  },
  {
   "cell_type": "code",
   "execution_count": 2,
   "metadata": {},
   "outputs": [],
   "source": [
    "import numpy as np\n",
    "import pandas as pd\n",
    "import matplotlib.pyplot as plt\n",
    "from sklearn.feature_selection import chi2, mutual_info_classif, SelectKBest\n",
    "from sklearn.model_selection import RepeatedStratifiedKFold\n",
    "from sklearn.neighbors import KNeighborsClassifier\n",
    "from utils import modelAnalyzesFunctions as analyzes, graphFunctions as graph\n",
    "import sklearn.metrics as metrics\n",
    "from sklearn.decomposition import PCA"
   ]
  },
  {
   "cell_type": "code",
   "execution_count": 3,
   "metadata": {},
   "outputs": [
    {
     "data": {
      "text/html": [
       "<div>\n",
       "<style scoped>\n",
       "    .dataframe tbody tr th:only-of-type {\n",
       "        vertical-align: middle;\n",
       "    }\n",
       "\n",
       "    .dataframe tbody tr th {\n",
       "        vertical-align: top;\n",
       "    }\n",
       "\n",
       "    .dataframe thead th {\n",
       "        text-align: right;\n",
       "    }\n",
       "</style>\n",
       "<table border=\"1\" class=\"dataframe\">\n",
       "  <thead>\n",
       "    <tr style=\"text-align: right;\">\n",
       "      <th></th>\n",
       "      <th>Elevation</th>\n",
       "      <th>Aspect</th>\n",
       "      <th>Slope</th>\n",
       "      <th>Horizontal_Distance_To_Hydrology</th>\n",
       "      <th>Vertical_Distance_To_Hydrology</th>\n",
       "      <th>Horizontal_Distance_To_Roadways</th>\n",
       "      <th>Hillshade_9am</th>\n",
       "      <th>Hillshade_Noon</th>\n",
       "      <th>Hillshade_3pm</th>\n",
       "      <th>Horizontal_Distance_To_Fire_Points</th>\n",
       "      <th>...</th>\n",
       "      <th>Soil_Type-32</th>\n",
       "      <th>Soil_Type-33</th>\n",
       "      <th>Soil_Type-34</th>\n",
       "      <th>Soil_Type-35</th>\n",
       "      <th>Soil_Type-36</th>\n",
       "      <th>Soil_Type-37</th>\n",
       "      <th>Soil_Type-38</th>\n",
       "      <th>Soil_Type-39</th>\n",
       "      <th>Soil_Type-40</th>\n",
       "      <th>Cover_Type</th>\n",
       "    </tr>\n",
       "  </thead>\n",
       "  <tbody>\n",
       "    <tr>\n",
       "      <th>0</th>\n",
       "      <td>0.546773</td>\n",
       "      <td>0.200000</td>\n",
       "      <td>0.454545</td>\n",
       "      <td>0.047960</td>\n",
       "      <td>0.272610</td>\n",
       "      <td>0.367290</td>\n",
       "      <td>0.937008</td>\n",
       "      <td>0.665354</td>\n",
       "      <td>0.161417</td>\n",
       "      <td>0.308518</td>\n",
       "      <td>...</td>\n",
       "      <td>0.0</td>\n",
       "      <td>1.0</td>\n",
       "      <td>0.0</td>\n",
       "      <td>0.0</td>\n",
       "      <td>0.0</td>\n",
       "      <td>0.0</td>\n",
       "      <td>0.0</td>\n",
       "      <td>0.0</td>\n",
       "      <td>0.0</td>\n",
       "      <td>1</td>\n",
       "    </tr>\n",
       "    <tr>\n",
       "      <th>1</th>\n",
       "      <td>0.637819</td>\n",
       "      <td>0.891667</td>\n",
       "      <td>0.090909</td>\n",
       "      <td>0.064424</td>\n",
       "      <td>0.223514</td>\n",
       "      <td>0.105381</td>\n",
       "      <td>0.803150</td>\n",
       "      <td>0.921260</td>\n",
       "      <td>0.665354</td>\n",
       "      <td>0.158929</td>\n",
       "      <td>...</td>\n",
       "      <td>0.0</td>\n",
       "      <td>0.0</td>\n",
       "      <td>0.0</td>\n",
       "      <td>0.0</td>\n",
       "      <td>0.0</td>\n",
       "      <td>0.0</td>\n",
       "      <td>0.0</td>\n",
       "      <td>0.0</td>\n",
       "      <td>0.0</td>\n",
       "      <td>1</td>\n",
       "    </tr>\n",
       "    <tr>\n",
       "      <th>2</th>\n",
       "      <td>0.716858</td>\n",
       "      <td>0.163889</td>\n",
       "      <td>0.287879</td>\n",
       "      <td>0.125268</td>\n",
       "      <td>0.232558</td>\n",
       "      <td>0.593790</td>\n",
       "      <td>0.905512</td>\n",
       "      <td>0.771654</td>\n",
       "      <td>0.354331</td>\n",
       "      <td>0.500209</td>\n",
       "      <td>...</td>\n",
       "      <td>0.0</td>\n",
       "      <td>0.0</td>\n",
       "      <td>0.0</td>\n",
       "      <td>0.0</td>\n",
       "      <td>0.0</td>\n",
       "      <td>0.0</td>\n",
       "      <td>0.0</td>\n",
       "      <td>0.0</td>\n",
       "      <td>0.0</td>\n",
       "      <td>1</td>\n",
       "    </tr>\n",
       "    <tr>\n",
       "      <th>3</th>\n",
       "      <td>0.549775</td>\n",
       "      <td>0.133333</td>\n",
       "      <td>0.106061</td>\n",
       "      <td>0.021475</td>\n",
       "      <td>0.228682</td>\n",
       "      <td>0.437544</td>\n",
       "      <td>0.877953</td>\n",
       "      <td>0.885827</td>\n",
       "      <td>0.543307</td>\n",
       "      <td>0.157814</td>\n",
       "      <td>...</td>\n",
       "      <td>0.0</td>\n",
       "      <td>0.0</td>\n",
       "      <td>0.0</td>\n",
       "      <td>0.0</td>\n",
       "      <td>0.0</td>\n",
       "      <td>0.0</td>\n",
       "      <td>0.0</td>\n",
       "      <td>0.0</td>\n",
       "      <td>0.0</td>\n",
       "      <td>1</td>\n",
       "    </tr>\n",
       "    <tr>\n",
       "      <th>4</th>\n",
       "      <td>0.699850</td>\n",
       "      <td>0.519444</td>\n",
       "      <td>0.121212</td>\n",
       "      <td>0.336435</td>\n",
       "      <td>0.295866</td>\n",
       "      <td>0.360264</td>\n",
       "      <td>0.870079</td>\n",
       "      <td>0.968504</td>\n",
       "      <td>0.625984</td>\n",
       "      <td>0.191552</td>\n",
       "      <td>...</td>\n",
       "      <td>0.0</td>\n",
       "      <td>1.0</td>\n",
       "      <td>0.0</td>\n",
       "      <td>0.0</td>\n",
       "      <td>0.0</td>\n",
       "      <td>0.0</td>\n",
       "      <td>0.0</td>\n",
       "      <td>0.0</td>\n",
       "      <td>0.0</td>\n",
       "      <td>1</td>\n",
       "    </tr>\n",
       "  </tbody>\n",
       "</table>\n",
       "<p>5 rows × 55 columns</p>\n",
       "</div>"
      ],
      "text/plain": [
       "   Elevation    Aspect     Slope  Horizontal_Distance_To_Hydrology  \\\n",
       "0   0.546773  0.200000  0.454545                          0.047960   \n",
       "1   0.637819  0.891667  0.090909                          0.064424   \n",
       "2   0.716858  0.163889  0.287879                          0.125268   \n",
       "3   0.549775  0.133333  0.106061                          0.021475   \n",
       "4   0.699850  0.519444  0.121212                          0.336435   \n",
       "\n",
       "   Vertical_Distance_To_Hydrology  Horizontal_Distance_To_Roadways  \\\n",
       "0                        0.272610                         0.367290   \n",
       "1                        0.223514                         0.105381   \n",
       "2                        0.232558                         0.593790   \n",
       "3                        0.228682                         0.437544   \n",
       "4                        0.295866                         0.360264   \n",
       "\n",
       "   Hillshade_9am  Hillshade_Noon  Hillshade_3pm  \\\n",
       "0       0.937008        0.665354       0.161417   \n",
       "1       0.803150        0.921260       0.665354   \n",
       "2       0.905512        0.771654       0.354331   \n",
       "3       0.877953        0.885827       0.543307   \n",
       "4       0.870079        0.968504       0.625984   \n",
       "\n",
       "   Horizontal_Distance_To_Fire_Points  ...  Soil_Type-32  Soil_Type-33  \\\n",
       "0                            0.308518  ...           0.0           1.0   \n",
       "1                            0.158929  ...           0.0           0.0   \n",
       "2                            0.500209  ...           0.0           0.0   \n",
       "3                            0.157814  ...           0.0           0.0   \n",
       "4                            0.191552  ...           0.0           1.0   \n",
       "\n",
       "   Soil_Type-34  Soil_Type-35  Soil_Type-36  Soil_Type-37  Soil_Type-38  \\\n",
       "0           0.0           0.0           0.0           0.0           0.0   \n",
       "1           0.0           0.0           0.0           0.0           0.0   \n",
       "2           0.0           0.0           0.0           0.0           0.0   \n",
       "3           0.0           0.0           0.0           0.0           0.0   \n",
       "4           0.0           0.0           0.0           0.0           0.0   \n",
       "\n",
       "   Soil_Type-39  Soil_Type-40  Cover_Type  \n",
       "0           0.0           0.0           1  \n",
       "1           0.0           0.0           1  \n",
       "2           0.0           0.0           1  \n",
       "3           0.0           0.0           1  \n",
       "4           0.0           0.0           1  \n",
       "\n",
       "[5 rows x 55 columns]"
      ]
     },
     "execution_count": 3,
     "metadata": {},
     "output_type": "execute_result"
    }
   ],
   "source": [
    "data: pd.DataFrame = pd.read_csv('../datasets/covtype_data_preparation.csv', sep=',', decimal='.')\n",
    "copy_data = data.copy()\n",
    "y: np.ndarray = copy_data.pop('Cover_Type').values\n",
    "X: np.ndarray = copy_data.values\n",
    "labels = pd.unique(y)\n",
    "\n",
    "data.head()"
   ]
  },
  {
   "cell_type": "markdown",
   "metadata": {},
   "source": [
    "## Feature Selection"
   ]
  },
  {
   "cell_type": "code",
   "execution_count": 4,
   "metadata": {},
   "outputs": [
    {
     "data": {
      "text/plain": [
       "Index(['Wilderness_Area-4', 'Soil_Type-3'], dtype='object')"
      ]
     },
     "execution_count": 4,
     "metadata": {},
     "output_type": "execute_result"
    }
   ],
   "source": [
    "selector_chi = SelectKBest(chi2, k=2)\n",
    "X_new = selector_chi.fit_transform(X, y)\n",
    "copy_data.columns[selector_chi.get_support()]"
   ]
  },
  {
   "cell_type": "code",
   "execution_count": 5,
   "metadata": {},
   "outputs": [
    {
     "data": {
      "text/plain": [
       "Index(['Elevation', 'Wilderness_Area-4'], dtype='object')"
      ]
     },
     "execution_count": 5,
     "metadata": {},
     "output_type": "execute_result"
    }
   ],
   "source": [
    "selector_f = SelectKBest(mutual_info_classif, k=2)\n",
    "X_new = selector_f.fit_transform(X, y)\n",
    "copy_data.columns[selector_f.get_support()]"
   ]
  },
  {
   "cell_type": "code",
   "execution_count": 6,
   "metadata": {},
   "outputs": [
    {
     "name": "stdout",
     "output_type": "stream",
     "text": [
      "Baseline accuracy:  0.8683584653895423\n",
      "Baseline sensitivity:  0.8683584653895423\n"
     ]
    }
   ],
   "source": [
    "n_estimators = 250\n",
    "max_depth = 50\n",
    "max_features = 'sqrt'\n",
    "\n",
    "n_splits = 4\n",
    "n_repeats = 3\n",
    "\n",
    "rskf = RepeatedStratifiedKFold(n_splits, n_repeats, random_state=42)\n",
    "\n",
    "accuracy_rf, sensitivity_rf = analyzes.random_forest(X, y, rskf, n_estimators=n_estimators, max_depth=max_depth, max_features=max_features, average='micro')\n",
    "\n",
    "print(\"Baseline accuracy: \", accuracy_rf)\n",
    "print(\"Baseline sensitivity: \", sensitivity_rf)"
   ]
  },
  {
   "cell_type": "code",
   "execution_count": 7,
   "metadata": {},
   "outputs": [],
   "source": [
    "def random_forest_with_n_features(X, y, rskf, n_estimators, max_depth, max_features, n_features, estimator):\n",
    "    accuracies = np.zeros(len(n_features))\n",
    "    sensitivities = np.zeros(len(n_features))\n",
    "    for n in range(len(n_features)):\n",
    "        selector = SelectKBest(estimator, k=n_features[n])\n",
    "        X_new = selector.fit_transform(X, y)\n",
    "        acc, sens = analyzes.random_forest(X_new, y, rskf, n_estimators=n_estimators, max_depth=max_depth, max_features=max_features, average='micro')\n",
    "        accuracies[n] = acc\n",
    "        sensitivities[n] = sens\n",
    "    return accuracies, sensitivities"
   ]
  },
  {
   "cell_type": "code",
   "execution_count": 8,
   "metadata": {},
   "outputs": [
    {
     "data": {
      "image/png": "[encoded data removed]",
      "text/plain": [
       "<Figure size 432x288 with 2 Axes>"
      ]
     },
     "metadata": {
      "needs_background": "light"
     },
     "output_type": "display_data"
    },
    {
     "name": "stdout",
     "output_type": "stream",
     "text": [
      "Best accuracy: 0.8708722519991569\n",
      "Sensitivity associated: 0.8708722519991569\n",
      "Number of features 50 \n",
      "\n",
      "Best sensitivity: 0.8708722519991569\n",
      "Accuracy associated: 0.8708722519991569\n",
      "Number of features 50 \n",
      "\n"
     ]
    }
   ],
   "source": [
    "n_features = [2, 5, 10, 20, 30, 50]\n",
    "\n",
    "rskf = RepeatedStratifiedKFold(n_splits, n_repeats, random_state=42)\n",
    "\n",
    "accuracies_rf_chi, sensitivities_rf_chi = random_forest_with_n_features(X, y, rskf, n_estimators, max_depth, max_features, n_features, chi2)\n",
    "\n",
    "plt.figure()\n",
    "graph.double_line_chart_different_scales(plt.gca(), n_features, accuracies_rf_chi, sensitivities_rf_chi, 'Random Forest with different number of features', 'Number of features', 'accuracy', 'sensitivity', y_interval=(0, 1), y_interval2=(0, 1))\n",
    "plt.show()\n",
    "print(\"Best accuracy:\", np.max(accuracies_rf_chi))\n",
    "print(\"Sensitivity associated:\", sensitivities_rf_chi[np.argmax(accuracies_rf_chi)])\n",
    "print(\"Number of features\", n_features[np.argmax(accuracies_rf_chi)], '\\n')\n",
    "print(\"Best sensitivity:\", np.max(sensitivities_rf_chi))\n",
    "print(\"Accuracy associated:\", accuracies_rf_chi[np.argmax(sensitivities_rf_chi)])\n",
    "print(\"Number of features\", n_features[np.argmax(sensitivities_rf_chi)], '\\n')"
   ]
  },
  {
   "cell_type": "code",
   "execution_count": 9,
   "metadata": {},
   "outputs": [
    {
     "data": {
      "image/png": "[encoded data removed]",
      "text/plain": [
       "<Figure size 432x288 with 2 Axes>"
      ]
     },
     "metadata": {
      "needs_background": "light"
     },
     "output_type": "display_data"
    },
    {
     "name": "stdout",
     "output_type": "stream",
     "text": [
      "Best accuracy: 0.8704560619958408\n",
      "Sensitivity associated: 0.8704560619958408\n",
      "Number of features 50 \n",
      "\n",
      "Best sensitivity: 0.8704560619958408\n",
      "Accuracy associated: 0.8704560619958408\n",
      "Number of features 50 \n",
      "\n"
     ]
    }
   ],
   "source": [
    "n_features = [2, 5, 10, 20, 30, 50]\n",
    "\n",
    "rskf = RepeatedStratifiedKFold(n_splits, n_repeats, random_state=42)\n",
    "\n",
    "accuracies_rf_mut, sensitivities_rf_mut = random_forest_with_n_features(X, y, rskf, n_estimators, max_depth, max_features, n_features, mutual_info_classif)\n",
    "\n",
    "plt.figure()\n",
    "graph.double_line_chart_different_scales(plt.gca(), n_features, accuracies_rf_mut, sensitivities_rf_mut, 'Random Forest with different number of features', 'Number of features', 'accuracy', 'sensitivity', y_interval=(0, 1), y_interval2=(0, 1))\n",
    "plt.show()\n",
    "print(\"Best accuracy:\", np.max(accuracies_rf_mut))\n",
    "print(\"Sensitivity associated:\", sensitivities_rf_mut[np.argmax(accuracies_rf_mut)])\n",
    "print(\"Number of features\", n_features[np.argmax(accuracies_rf_mut)], '\\n')\n",
    "print(\"Best sensitivity:\", np.max(sensitivities_rf_mut))\n",
    "print(\"Accuracy associated:\", accuracies_rf_mut[np.argmax(sensitivities_rf_mut)])\n",
    "print(\"Number of features\", n_features[np.argmax(sensitivities_rf_mut)], '\\n')"
   ]
  },
  {
   "cell_type": "markdown",
   "metadata": {},
   "source": [
    "In both cases, the accuracy stabilizes after certain number of features.\n",
    "\n",
    "To compare the effect of the number of features between one ensemble method (random forest) and a single model, we will try the same approach with KNN."
   ]
  },
  {
   "cell_type": "code",
   "execution_count": 10,
   "metadata": {},
   "outputs": [
    {
     "data": {
      "image/png": "[encoded data removed]",
      "text/plain": [
       "<Figure size 432x288 with 1 Axes>"
      ]
     },
     "metadata": {
      "needs_background": "light"
     },
     "output_type": "display_data"
    },
    {
     "name": "stdout",
     "output_type": "stream",
     "text": [
      "Accuracy for n equal to 1 : 0.8267\n",
      "Sensitivity for n equal to 1 : 0.8267 \n",
      "\n",
      "Accuracy for n equal to 3 : 0.8149\n",
      "Sensitivity for n equal to 3 : 0.8149 \n",
      "\n",
      "Accuracy for n equal to 5 : 0.8074\n",
      "Sensitivity for n equal to 5 : 0.8074 \n",
      "\n",
      "Accuracy for n equal to 7 : 0.7987\n",
      "Sensitivity for n equal to 7 : 0.7987 \n",
      "\n",
      "Accuracy for n equal to 9 : 0.7903\n",
      "Sensitivity for n equal to 9 : 0.7903 \n",
      "\n",
      "Accuracy for n equal to 11 : 0.7840\n",
      "Sensitivity for n equal to 11 : 0.7840 \n",
      "\n",
      "Accuracy for n equal to 13 : 0.7778\n",
      "Sensitivity for n equal to 13 : 0.7778 \n",
      "\n",
      "Accuracy for n equal to 15 : 0.7716\n",
      "Sensitivity for n equal to 15 : 0.7716 \n",
      "\n"
     ]
    }
   ],
   "source": [
    "nvalues = [1, 3, 5, 7, 9, 11, 13, 15]\n",
    "dist = ['manhattan', 'euclidean', 'chebyshev']\n",
    "\n",
    "rskf = RepeatedStratifiedKFold(n_splits, n_repeats, random_state=42)\n",
    "\n",
    "accuracy_knn, sensitivity_knn = analyzes.knn_analyzes(X, y, nvalues, dist, rskf, title_complement = '- (baseline)', average='micro')"
   ]
  },
  {
   "cell_type": "code",
   "execution_count": 11,
   "metadata": {},
   "outputs": [],
   "source": [
    "def knn_with_n_features(X, y, nvalue, dist, rskf, n_features, estimator):\n",
    "    accuracies = np.zeros(len(n_features))\n",
    "    sensitivities = np.zeros(len(n_features))\n",
    "    for n in range(len(n_features)):\n",
    "        selector = SelectKBest(estimator, k=n_features[n])\n",
    "        X_new = selector.fit_transform(X, y)\n",
    "        acc, sens = analyzes.knn(X_new, y, nvalue, dist, rskf, average='micro')\n",
    "        accuracies[n] = acc\n",
    "        sensitivities[n] = sens\n",
    "    return accuracies, sensitivities"
   ]
  },
  {
   "cell_type": "code",
   "execution_count": 12,
   "metadata": {},
   "outputs": [
    {
     "data": {
      "image/png": "[encoded data removed]",
      "text/plain": [
       "<Figure size 432x288 with 2 Axes>"
      ]
     },
     "metadata": {
      "needs_background": "light"
     },
     "output_type": "display_data"
    },
    {
     "name": "stdout",
     "output_type": "stream",
     "text": [
      "Best accuracy: 0.854941010952698\n",
      "Sensitivity associated: 0.854941010952698\n",
      "Number of features 30 \n",
      "\n",
      "Best sensitivity: 0.854941010952698\n",
      "Accuracy associated: 0.854941010952698\n",
      "Number of features 30 \n",
      "\n"
     ]
    }
   ],
   "source": [
    "n_features = [2, 5, 10, 20, 30, 50]\n",
    "\n",
    "nvalue = 1\n",
    "dist = 'manhattan'\n",
    "\n",
    "rskf = RepeatedStratifiedKFold(n_splits, n_repeats, random_state=42)\n",
    "\n",
    "accuracies_knn_chi, sensitivities_knn_chi = knn_with_n_features(X, y, nvalue, dist, rskf, n_features, chi2)\n",
    "\n",
    "plt.figure()\n",
    "graph.double_line_chart_different_scales(plt.gca(), n_features, accuracies_knn_chi, sensitivities_knn_chi, 'KNN with different number of features', 'Number of features', 'accuracy', 'sensitivity', y_interval=(0, 1), y_interval2=(0, 1))\n",
    "plt.show()\n",
    "print(\"Best accuracy:\", np.max(accuracies_knn_chi))\n",
    "print(\"Sensitivity associated:\", sensitivities_knn_chi[np.argmax(accuracies_knn_chi)])\n",
    "print(\"Number of features\", n_features[np.argmax(accuracies_knn_chi)], '\\n')\n",
    "print(\"Best sensitivity:\", np.max(sensitivities_knn_chi))\n",
    "print(\"Accuracy associated:\", accuracies_knn_chi[np.argmax(sensitivities_knn_chi)])\n",
    "print(\"Number of features\", n_features[np.argmax(sensitivities_knn_chi)], '\\n')"
   ]
  },
  {
   "cell_type": "code",
   "execution_count": 13,
   "metadata": {},
   "outputs": [
    {
     "data": {
      "image/png": "[encoded data removed]",
      "text/plain": [
       "<Figure size 432x288 with 2 Axes>"
      ]
     },
     "metadata": {
      "needs_background": "light"
     },
     "output_type": "display_data"
    },
    {
     "name": "stdout",
     "output_type": "stream",
     "text": [
      "Best accuracy: 0.8508494358144887\n",
      "Sensitivity associated: 0.8508494358144887\n",
      "Number of features 10 \n",
      "\n",
      "Best sensitivity: 0.8508494358144887\n",
      "Accuracy associated: 0.8508494358144887\n",
      "Number of features 10 \n",
      "\n"
     ]
    }
   ],
   "source": [
    "rskf = RepeatedStratifiedKFold(n_splits, n_repeats, random_state=42)\n",
    "\n",
    "accuracies_knn_mut, sensitivities_knn_mut = knn_with_n_features(X, y, nvalue, dist, rskf, n_features, mutual_info_classif)\n",
    "\n",
    "plt.figure()\n",
    "graph.double_line_chart_different_scales(plt.gca(), n_features, accuracies_knn_mut, sensitivities_knn_mut, 'KNN with different number of features', 'Number of features', 'accuracy', 'sensitivity', y_interval=(0, 1), y_interval2=(0, 1))\n",
    "plt.show()\n",
    "print(\"Best accuracy:\", np.max(accuracies_knn_mut))\n",
    "print(\"Sensitivity associated:\", sensitivities_knn_mut[np.argmax(accuracies_knn_mut)])\n",
    "print(\"Number of features\", n_features[np.argmax(accuracies_knn_mut)], '\\n')\n",
    "print(\"Best sensitivity:\", np.max(sensitivities_knn_mut))\n",
    "print(\"Accuracy associated:\", accuracies_knn_mut[np.argmax(sensitivities_knn_mut)])\n",
    "print(\"Number of features\", n_features[np.argmax(sensitivities_knn_mut)], '\\n')"
   ]
  },
  {
   "cell_type": "markdown",
   "metadata": {},
   "source": [
    "Even though we have 55 columns on the dataset, most of them (44 to be exactly) are dummified, therefore the effect of adding/removing is explained by only its relevance to predict the target class (different than the parkinson dataset that had more than 300 features for less than 1000 records ==> \"the curse of dimensionality\" was applied)."
   ]
  },
  {
   "cell_type": "markdown",
   "metadata": {},
   "source": [
    "## PCA\n",
    "\n",
    "There will be created enough components to explain around 85% of the dataset variation (commonly used number of cumulative percentage explained for PCA)."
   ]
  },
  {
   "cell_type": "code",
   "execution_count": 14,
   "metadata": {},
   "outputs": [
    {
     "name": "stdout",
     "output_type": "stream",
     "text": [
      "Explained variance (ratio) = [0.22015994 0.18202446 0.06862315 0.05448283 0.03677052 0.03384975\n",
      " 0.03066136 0.02817159 0.02686661 0.02456993 0.02347218 0.0223183\n",
      " 0.02213372 0.02151387 0.01898084 0.01679982 0.01593079 0.01487761]\n",
      "Number of features extracted = 18\n",
      "Total explained variance = 0.8622072597128196\n"
     ]
    }
   ],
   "source": [
    "pca = PCA(n_components=0.85, svd_solver=\"full\")\n",
    "pca.fit(X)\n",
    "\n",
    "X_pca = pca.transform(X)\n",
    "\n",
    "print(\"Explained variance (ratio) =\",pca.explained_variance_ratio_)\n",
    "print(\"Number of features extracted =\", len(pca.explained_variance_ratio_))\n",
    "print(\"Total explained variance =\", np.sum(pca.explained_variance_ratio_))"
   ]
  },
  {
   "cell_type": "code",
   "execution_count": 15,
   "metadata": {},
   "outputs": [
    {
     "data": {
      "image/png": "[encoded data removed]",
      "text/plain": [
       "<Figure size 576x288 with 1 Axes>"
      ]
     },
     "metadata": {
      "needs_background": "light"
     },
     "output_type": "display_data"
    }
   ],
   "source": [
    "fig = plt.figure(figsize=(8,4))\n",
    "\n",
    "plotted_features = 10 if len(pca.explained_variance_ratio_) > 10 else len(pca.explained_variance_ratio_)\n",
    "variables = []\n",
    "for i in range(plotted_features):\n",
    "    variables.append('PCA_'+str((i+1)))\n",
    "y_pos = np.arange(len(variables))\n",
    "ratio = pca.explained_variance_ratio_[0:plotted_features]\n",
    "\n",
    "plt.bar(y_pos, ratio, align='center', alpha=0.5)\n",
    "plt.xticks(y_pos, variables)\n",
    "plt.ylabel('Explained ratio')\n",
    "plt.title('Explained variance for ' +str(plotted_features)+ ' features')\n",
    "\n",
    "plt.show()"
   ]
  },
  {
   "cell_type": "code",
   "execution_count": 16,
   "metadata": {},
   "outputs": [
    {
     "name": "stdout",
     "output_type": "stream",
     "text": [
      "Accuracy: 0.8294238855272376\n",
      "Sensitivity: 0.8294238855272376\n"
     ]
    }
   ],
   "source": [
    "rskf = RepeatedStratifiedKFold(n_splits, n_repeats, random_state=42)\n",
    "\n",
    "accuracy_pca_rf, sensitivity_pca_rf = analyzes.random_forest(X_pca, y, rskf, n_estimators=n_estimators, max_depth=max_depth, max_features=max_features, average='micro')\n",
    "\n",
    "print(\"Accuracy:\", accuracy_pca_rf)\n",
    "print(\"Sensitivity:\", sensitivity_pca_rf)"
   ]
  },
  {
   "cell_type": "code",
   "execution_count": 17,
   "metadata": {},
   "outputs": [
    {
     "name": "stdout",
     "output_type": "stream",
     "text": [
      "Accuracy: 0.8006477670532313\n",
      "Sensitivity: 0.8006477670532313\n"
     ]
    }
   ],
   "source": [
    "rskf = RepeatedStratifiedKFold(n_splits, n_repeats, random_state=42)\n",
    "\n",
    "accuracy_pca_knn, sensitivity_pca_knn = analyzes.knn(X_pca, y, nvalue, dist, rskf, average='micro')\n",
    "\n",
    "print(\"Accuracy:\", accuracy_pca_knn)\n",
    "print(\"Sensitivity:\", sensitivity_pca_knn)"
   ]
  },
  {
   "cell_type": "markdown",
   "metadata": {},
   "source": [
    "In both cases, the results on feature selection was a little better than the ones obtained by feature extraction."
   ]
  }
 ],
 "metadata": {
  "kernelspec": {
   "display_name": "Python 3",
   "language": "python",
   "name": "python3"
  },
  "language_info": {
   "codemirror_mode": {
    "name": "ipython",
    "version": 3
   },
   "file_extension": ".py",
   "mimetype": "text/x-python",
   "name": "python",
   "nbconvert_exporter": "python",
   "pygments_lexer": "ipython3",
   "version": "3.7.3"
  }
 },
 "nbformat": 4,
 "nbformat_minor": 2
}
