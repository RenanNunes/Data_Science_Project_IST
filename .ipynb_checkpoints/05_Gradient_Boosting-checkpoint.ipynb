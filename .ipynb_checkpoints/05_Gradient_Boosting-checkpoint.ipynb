{
 "cells": [
  {
   "cell_type": "markdown",
   "metadata": {},
   "source": [
    "## Gradient Boosting\n",
    "Another model from the emsemble family is the Gradient Boosting. The main difference between it and the random forest is that the former is a boosting algorithm, which means that there are different weights for different models to try to classify better the dataset."
   ]
  },
  {
   "cell_type": "code",
   "execution_count": 1,
   "metadata": {},
   "outputs": [],
   "source": [
    "import numpy as np\n",
    "import pandas as pd\n",
    "import matplotlib.pyplot as plt\n",
    "from sklearn.model_selection import RepeatedStratifiedKFold\n",
    "import sklearn.metrics as metrics\n",
    "import itertools\n",
    "import modelAnalyzesFunctions as analyzes"
   ]
  },
  {
   "cell_type": "code",
   "execution_count": 2,
   "metadata": {},
   "outputs": [
    {
     "data": {
      "text/html": [
       "<div>\n",
       "<style scoped>\n",
       "    .dataframe tbody tr th:only-of-type {\n",
       "        vertical-align: middle;\n",
       "    }\n",
       "\n",
       "    .dataframe tbody tr th {\n",
       "        vertical-align: top;\n",
       "    }\n",
       "\n",
       "    .dataframe thead th {\n",
       "        text-align: right;\n",
       "    }\n",
       "</style>\n",
       "<table border=\"1\" class=\"dataframe\">\n",
       "  <thead>\n",
       "    <tr style=\"text-align: right;\">\n",
       "      <th></th>\n",
       "      <th>gender</th>\n",
       "      <th>PPE</th>\n",
       "      <th>DFA</th>\n",
       "      <th>RPDE</th>\n",
       "      <th>numPulses</th>\n",
       "      <th>stdDevPeriodPulses</th>\n",
       "      <th>locPctJitter</th>\n",
       "      <th>locShimmer</th>\n",
       "      <th>meanAutoCorrHarmonicity</th>\n",
       "      <th>minIntensity</th>\n",
       "      <th>...</th>\n",
       "      <th>tqwt_kurtosisValue_dec_20</th>\n",
       "      <th>tqwt_kurtosisValue_dec_21</th>\n",
       "      <th>tqwt_kurtosisValue_dec_22</th>\n",
       "      <th>tqwt_kurtosisValue_dec_23</th>\n",
       "      <th>tqwt_kurtosisValue_dec_24</th>\n",
       "      <th>tqwt_kurtosisValue_dec_25</th>\n",
       "      <th>tqwt_kurtosisValue_dec_26</th>\n",
       "      <th>tqwt_kurtosisValue_dec_27</th>\n",
       "      <th>tqwt_kurtosisValue_dec_28</th>\n",
       "      <th>tqwt_kurtosisValue_dec_30</th>\n",
       "    </tr>\n",
       "    <tr>\n",
       "      <th>id</th>\n",
       "      <th></th>\n",
       "      <th></th>\n",
       "      <th></th>\n",
       "      <th></th>\n",
       "      <th></th>\n",
       "      <th></th>\n",
       "      <th></th>\n",
       "      <th></th>\n",
       "      <th></th>\n",
       "      <th></th>\n",
       "      <th></th>\n",
       "      <th></th>\n",
       "      <th></th>\n",
       "      <th></th>\n",
       "      <th></th>\n",
       "      <th></th>\n",
       "      <th></th>\n",
       "      <th></th>\n",
       "      <th></th>\n",
       "      <th></th>\n",
       "      <th></th>\n",
       "    </tr>\n",
       "  </thead>\n",
       "  <tbody>\n",
       "    <tr>\n",
       "      <th>0</th>\n",
       "      <td>1.0</td>\n",
       "      <td>0.916232</td>\n",
       "      <td>0.475707</td>\n",
       "      <td>0.590235</td>\n",
       "      <td>0.284974</td>\n",
       "      <td>0.022323</td>\n",
       "      <td>0.075900</td>\n",
       "      <td>0.271284</td>\n",
       "      <td>0.944323</td>\n",
       "      <td>0.692855</td>\n",
       "      <td>...</td>\n",
       "      <td>0.075621</td>\n",
       "      <td>0.300582</td>\n",
       "      <td>0.105270</td>\n",
       "      <td>0.013066</td>\n",
       "      <td>0.004055</td>\n",
       "      <td>0.003293</td>\n",
       "      <td>0.000374</td>\n",
       "      <td>0.000178</td>\n",
       "      <td>0.000191</td>\n",
       "      <td>0.098628</td>\n",
       "    </tr>\n",
       "    <tr>\n",
       "      <th>1</th>\n",
       "      <td>0.0</td>\n",
       "      <td>0.182314</td>\n",
       "      <td>0.806469</td>\n",
       "      <td>0.630075</td>\n",
       "      <td>0.242228</td>\n",
       "      <td>0.689703</td>\n",
       "      <td>0.247423</td>\n",
       "      <td>0.228818</td>\n",
       "      <td>0.876238</td>\n",
       "      <td>0.882924</td>\n",
       "      <td>...</td>\n",
       "      <td>0.072430</td>\n",
       "      <td>0.077755</td>\n",
       "      <td>0.174381</td>\n",
       "      <td>0.038398</td>\n",
       "      <td>0.008310</td>\n",
       "      <td>0.001114</td>\n",
       "      <td>0.001689</td>\n",
       "      <td>0.024783</td>\n",
       "      <td>0.018258</td>\n",
       "      <td>0.040204</td>\n",
       "    </tr>\n",
       "    <tr>\n",
       "      <th>2</th>\n",
       "      <td>1.0</td>\n",
       "      <td>0.877689</td>\n",
       "      <td>0.216841</td>\n",
       "      <td>0.516437</td>\n",
       "      <td>0.448187</td>\n",
       "      <td>0.033848</td>\n",
       "      <td>0.087255</td>\n",
       "      <td>0.117413</td>\n",
       "      <td>0.974092</td>\n",
       "      <td>0.871010</td>\n",
       "      <td>...</td>\n",
       "      <td>0.147429</td>\n",
       "      <td>0.038159</td>\n",
       "      <td>0.013139</td>\n",
       "      <td>0.007834</td>\n",
       "      <td>0.019385</td>\n",
       "      <td>0.000201</td>\n",
       "      <td>0.000368</td>\n",
       "      <td>0.000336</td>\n",
       "      <td>0.213153</td>\n",
       "      <td>0.120303</td>\n",
       "    </tr>\n",
       "    <tr>\n",
       "      <th>3</th>\n",
       "      <td>0.0</td>\n",
       "      <td>0.925807</td>\n",
       "      <td>0.237611</td>\n",
       "      <td>0.542708</td>\n",
       "      <td>0.785622</td>\n",
       "      <td>0.010547</td>\n",
       "      <td>0.021814</td>\n",
       "      <td>0.161006</td>\n",
       "      <td>0.983185</td>\n",
       "      <td>0.781731</td>\n",
       "      <td>...</td>\n",
       "      <td>0.016141</td>\n",
       "      <td>0.161223</td>\n",
       "      <td>0.097629</td>\n",
       "      <td>0.037870</td>\n",
       "      <td>0.020783</td>\n",
       "      <td>0.009404</td>\n",
       "      <td>0.018881</td>\n",
       "      <td>0.003916</td>\n",
       "      <td>0.000815</td>\n",
       "      <td>0.009216</td>\n",
       "    </tr>\n",
       "    <tr>\n",
       "      <th>4</th>\n",
       "      <td>0.0</td>\n",
       "      <td>0.930451</td>\n",
       "      <td>0.757013</td>\n",
       "      <td>0.842307</td>\n",
       "      <td>0.532383</td>\n",
       "      <td>0.754983</td>\n",
       "      <td>0.148962</td>\n",
       "      <td>0.722861</td>\n",
       "      <td>0.734980</td>\n",
       "      <td>0.497109</td>\n",
       "      <td>...</td>\n",
       "      <td>0.142211</td>\n",
       "      <td>0.230036</td>\n",
       "      <td>0.117364</td>\n",
       "      <td>0.022389</td>\n",
       "      <td>0.009184</td>\n",
       "      <td>0.006695</td>\n",
       "      <td>0.009538</td>\n",
       "      <td>0.010617</td>\n",
       "      <td>0.013877</td>\n",
       "      <td>0.010267</td>\n",
       "    </tr>\n",
       "  </tbody>\n",
       "</table>\n",
       "<p>5 rows × 255 columns</p>\n",
       "</div>"
      ],
      "text/plain": [
       "    gender       PPE       DFA      RPDE  numPulses  stdDevPeriodPulses  \\\n",
       "id                                                                        \n",
       "0      1.0  0.916232  0.475707  0.590235   0.284974            0.022323   \n",
       "1      0.0  0.182314  0.806469  0.630075   0.242228            0.689703   \n",
       "2      1.0  0.877689  0.216841  0.516437   0.448187            0.033848   \n",
       "3      0.0  0.925807  0.237611  0.542708   0.785622            0.010547   \n",
       "4      0.0  0.930451  0.757013  0.842307   0.532383            0.754983   \n",
       "\n",
       "    locPctJitter  locShimmer  meanAutoCorrHarmonicity  minIntensity  ...  \\\n",
       "id                                                                   ...   \n",
       "0       0.075900    0.271284                 0.944323      0.692855  ...   \n",
       "1       0.247423    0.228818                 0.876238      0.882924  ...   \n",
       "2       0.087255    0.117413                 0.974092      0.871010  ...   \n",
       "3       0.021814    0.161006                 0.983185      0.781731  ...   \n",
       "4       0.148962    0.722861                 0.734980      0.497109  ...   \n",
       "\n",
       "    tqwt_kurtosisValue_dec_20  tqwt_kurtosisValue_dec_21  \\\n",
       "id                                                         \n",
       "0                    0.075621                   0.300582   \n",
       "1                    0.072430                   0.077755   \n",
       "2                    0.147429                   0.038159   \n",
       "3                    0.016141                   0.161223   \n",
       "4                    0.142211                   0.230036   \n",
       "\n",
       "    tqwt_kurtosisValue_dec_22  tqwt_kurtosisValue_dec_23  \\\n",
       "id                                                         \n",
       "0                    0.105270                   0.013066   \n",
       "1                    0.174381                   0.038398   \n",
       "2                    0.013139                   0.007834   \n",
       "3                    0.097629                   0.037870   \n",
       "4                    0.117364                   0.022389   \n",
       "\n",
       "    tqwt_kurtosisValue_dec_24  tqwt_kurtosisValue_dec_25  \\\n",
       "id                                                         \n",
       "0                    0.004055                   0.003293   \n",
       "1                    0.008310                   0.001114   \n",
       "2                    0.019385                   0.000201   \n",
       "3                    0.020783                   0.009404   \n",
       "4                    0.009184                   0.006695   \n",
       "\n",
       "    tqwt_kurtosisValue_dec_26  tqwt_kurtosisValue_dec_27  \\\n",
       "id                                                         \n",
       "0                    0.000374                   0.000178   \n",
       "1                    0.001689                   0.024783   \n",
       "2                    0.000368                   0.000336   \n",
       "3                    0.018881                   0.003916   \n",
       "4                    0.009538                   0.010617   \n",
       "\n",
       "    tqwt_kurtosisValue_dec_28  tqwt_kurtosisValue_dec_30  \n",
       "id                                                        \n",
       "0                    0.000191                   0.098628  \n",
       "1                    0.018258                   0.040204  \n",
       "2                    0.213153                   0.120303  \n",
       "3                    0.000815                   0.009216  \n",
       "4                    0.013877                   0.010267  \n",
       "\n",
       "[5 rows x 255 columns]"
      ]
     },
     "execution_count": 2,
     "metadata": {},
     "output_type": "execute_result"
    }
   ],
   "source": [
    "data_7: pd.DataFrame = pd.read_csv('datasets/pd_data_preparation_7.csv', sep=',', decimal='.', index_col='id')\n",
    "y_7: np.ndarray = data_7.pop('class').values\n",
    "X_7: np.ndarray = data_7.values\n",
    "labels_7 = pd.unique(y_7)\n",
    "\n",
    "data_8: pd.DataFrame = pd.read_csv('datasets/pd_data_preparation.csv', sep=',', decimal='.', index_col='id')\n",
    "y_8: np.ndarray = data_8.pop('class').values\n",
    "X_8: np.ndarray = data_8.values\n",
    "labels_8 = pd.unique(y_8)\n",
    "\n",
    "data_9: pd.DataFrame = pd.read_csv('datasets/pd_data_preparation_9.csv', sep=',', decimal='.', index_col='id')\n",
    "y_9: np.ndarray = data_9.pop('class').values\n",
    "X_9: np.ndarray = data_9.values\n",
    "labels_9 = pd.unique(y_9)\n",
    "\n",
    "data_8.head()"
   ]
  },
  {
   "cell_type": "code",
   "execution_count": 3,
   "metadata": {},
   "outputs": [],
   "source": [
    "n_splits = 4\n",
    "n_repeats = 3\n",
    "\n",
    "rskf = RepeatedStratifiedKFold(n_splits, n_repeats, random_state=42)"
   ]
  },
  {
   "cell_type": "markdown",
   "metadata": {},
   "source": [
    "To have a better understanding of the influencers of each parameter, we will check the accuracy and the sensitivity for the default parameters and then make some changes to see the difference of the metrics for each variation."
   ]
  },
  {
   "cell_type": "code",
   "execution_count": 4,
   "metadata": {},
   "outputs": [
    {
     "name": "stdout",
     "output_type": "stream",
     "text": [
      "Accuracy: 0.8962765957446809\n",
      "Sensitivity: 0.8865248226950354\n"
     ]
    }
   ],
   "source": [
    "accuracy, recall = analyzes.gradient_boosting(X_8, y_8, rskf)\n",
    "print('Accuracy:', accuracy)\n",
    "print('Sensitivity:', recall)"
   ]
  },
  {
   "cell_type": "code",
   "execution_count": 5,
   "metadata": {},
   "outputs": [
    {
     "data": {
      "image/png": "[encoded data removed]",
      "text/plain": [
       "<Figure size 432x288 with 2 Axes>"
      ]
     },
     "metadata": {
      "needs_background": "light"
     },
     "output_type": "display_data"
    },
    {
     "name": "stdout",
     "output_type": "stream",
     "text": [
      "Max accuracy\n",
      "Accuracy: 0.9042553191489362\n",
      "Sensitivity: 0.898936170212766\n",
      "learning_rate: 0.3\n",
      "\n",
      "Max sensitivity\n",
      "Accuracy:  0.9042553191489362\n",
      "Sensitivity: 0.898936170212766\n",
      "learning_rate: 0.3\n"
     ]
    }
   ],
   "source": [
    "learning_rate = [0.05, 0.1, 0.2, 0.25, 0.3, 0.5, 1]\n",
    "n_estimators = [5, 10, 25, 50, 75, 100, 150, 200, 250, 300]\n",
    "max_depths = [3, 5, 10, 25, 50]\n",
    "max_features = ['sqrt', 'log2']\n",
    "\n",
    "accuracy, sensitivity = analyzes.gradiente_boosting_analyzes(X_8, y_8, learning_rate, 'learning_rate', rskf)\n",
    "\n",
    "print('Max accuracy')\n",
    "print('Accuracy:', max(accuracy.values()))\n",
    "print('Sensitivity:', sensitivity[max(accuracy, key=accuracy.get)])\n",
    "print('learning_rate:', max(accuracy, key=accuracy.get))\n",
    "print()\n",
    "print('Max sensitivity')\n",
    "print('Accuracy: ', accuracy[max(sensitivity, key=sensitivity.get)])\n",
    "print('Sensitivity:', max(sensitivity.values()))\n",
    "print('learning_rate:', max(sensitivity, key=sensitivity.get))"
   ]
  },
  {
   "cell_type": "markdown",
   "metadata": {},
   "source": [
    "Higher learning rates make the adjustments to the prediction too sensitivy, resulting in more abrupt changes, causing the loss in the accuracy and in the sensitivity."
   ]
  },
  {
   "cell_type": "code",
   "execution_count": 6,
   "metadata": {},
   "outputs": [
    {
     "data": {
      "image/png": "[encoded data removed]",
      "text/plain": [
       "<Figure size 432x288 with 2 Axes>"
      ]
     },
     "metadata": {
      "needs_background": "light"
     },
     "output_type": "display_data"
    },
    {
     "name": "stdout",
     "output_type": "stream",
     "text": [
      "Max accuracy\n",
      "Accuracy: 0.9051418439716312\n",
      "Sensitivity: 0.9060283687943262\n",
      "n_estimators: 200\n",
      "\n",
      "Max sensitivity\n",
      "Accuracy:  0.9051418439716312\n",
      "Sensitivity: 0.9060283687943262\n",
      "n_estimators: 200\n"
     ]
    }
   ],
   "source": [
    "accuracy, sensitivity = analyzes.gradiente_boosting_analyzes(X_8, y_8, n_estimators, 'n_estimators', rskf)\n",
    "\n",
    "print('Max accuracy')\n",
    "print('Accuracy:', max(accuracy.values()))\n",
    "print('Sensitivity:', sensitivity[max(accuracy, key=accuracy.get)])\n",
    "print('n_estimators:', max(accuracy, key=accuracy.get))\n",
    "print()\n",
    "print('Max sensitivity')\n",
    "print('Accuracy: ', accuracy[max(sensitivity, key=sensitivity.get)])\n",
    "print('Sensitivity:', max(sensitivity.values()))\n",
    "print('n_estimators:', max(sensitivity, key=sensitivity.get))"
   ]
  },
  {
   "cell_type": "markdown",
   "metadata": {},
   "source": [
    "The ensembles models use weak predictors (models with accuracy around 50%), so the more estimators, usually, better."
   ]
  },
  {
   "cell_type": "code",
   "execution_count": 7,
   "metadata": {},
   "outputs": [
    {
     "data": {
      "image/png": "[encoded data removed]",
      "text/plain": [
       "<Figure size 432x288 with 2 Axes>"
      ]
     },
     "metadata": {
      "needs_background": "light"
     },
     "output_type": "display_data"
    },
    {
     "name": "stdout",
     "output_type": "stream",
     "text": [
      "Max accuracy\n",
      "Accuracy: 0.8927304964539008\n",
      "Sensitivity: 0.8812056737588653\n",
      "max_depth: 3\n",
      "\n",
      "Max sensitivity\n",
      "Accuracy:  0.8927304964539008\n",
      "Sensitivity: 0.8812056737588653\n",
      "max_depth: 3\n"
     ]
    }
   ],
   "source": [
    "accuracy, sensitivity = analyzes.gradiente_boosting_analyzes(X_8, y_8, max_depths, 'max_depth', rskf)\n",
    "\n",
    "print('Max accuracy')\n",
    "print('Accuracy:', max(accuracy.values()))\n",
    "print('Sensitivity:', sensitivity[max(accuracy, key=accuracy.get)])\n",
    "print('max_depth:', max(accuracy, key=accuracy.get))\n",
    "print()\n",
    "print('Max sensitivity')\n",
    "print('Accuracy: ', accuracy[max(sensitivity, key=sensitivity.get)])\n",
    "print('Sensitivity:', max(sensitivity.values()))\n",
    "print('max_depth:', max(sensitivity, key=sensitivity.get))"
   ]
  },
  {
   "cell_type": "markdown",
   "metadata": {},
   "source": []
  },
  {
   "cell_type": "code",
   "execution_count": 8,
   "metadata": {},
   "outputs": [
    {
     "data": {
      "image/png": "[encoded data removed]",
      "text/plain": [
       "<Figure size 432x288 with 2 Axes>"
      ]
     },
     "metadata": {
      "needs_background": "light"
     },
     "output_type": "display_data"
    },
    {
     "name": "stdout",
     "output_type": "stream",
     "text": [
      "Max accuracy\n",
      "Accuracy: 0.9051418439716312\n",
      "Sensitivity: 0.9024822695035462\n",
      "n_estimators: log2\n",
      "\n",
      "Max sensitivity\n",
      "Accuracy:  0.9051418439716312\n",
      "Sensitivity: 0.9024822695035462\n",
      "n_estimators: log2\n"
     ]
    }
   ],
   "source": [
    "accuracy, sensitivity = analyzes.gradiente_boosting_analyzes(X_8, y_8, max_features, 'max_features', rskf)\n",
    "\n",
    "print('Max accuracy')\n",
    "print('Accuracy:', max(accuracy.values()))\n",
    "print('Sensitivity:', sensitivity[max(accuracy, key=accuracy.get)])\n",
    "print('max_features:', max(accuracy, key=accuracy.get))\n",
    "print()\n",
    "print('Max sensitivity')\n",
    "print('Accuracy: ', accuracy[max(sensitivity, key=sensitivity.get)])\n",
    "print('Sensitivity:', max(sensitivity.values()))\n",
    "print('max_features:', max(sensitivity, key=sensitivity.get))"
   ]
  }
 ],
 "metadata": {
  "kernelspec": {
   "display_name": "Python 3",
   "language": "python",
   "name": "python3"
  },
  "language_info": {
   "codemirror_mode": {
    "name": "ipython",
    "version": 3
   },
   "file_extension": ".py",
   "mimetype": "text/x-python",
   "name": "python",
   "nbconvert_exporter": "python",
   "pygments_lexer": "ipython3",
   "version": "3.7.3"
  }
 },
 "nbformat": 4,
 "nbformat_minor": 2
}
