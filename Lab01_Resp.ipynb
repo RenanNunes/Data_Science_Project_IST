{
 "cells": [
  {
   "cell_type": "markdown",
   "metadata": {},
   "source": [
    "# Informações Iniciais\n",
    "\n",
    "Email do professor: rui.maia@tecnico.ulisboa.pt\n",
    "\n",
    "Max(0,4 * projeto+0,1 * entregas_dos_labs, 0,4 * projeto)\n",
    "Entregas do dataset 1 na semana posterior a aula\n",
    "\n",
    "Para apresentar, precisa fazer as coisas que fazem sentido (no caso dessa semana, sera apresentado os graficos que julgarmos interessantes)\n",
    "\n",
    "# Answers for the Lab01 questions\n",
    "\n",
    "Imports from libraries and dataset"
   ]
  },
  {
   "cell_type": "code",
   "execution_count": 46,
   "metadata": {},
   "outputs": [
    {
     "data": {
      "text/html": [
       "<div>\n",
       "<style scoped>\n",
       "    .dataframe tbody tr th:only-of-type {\n",
       "        vertical-align: middle;\n",
       "    }\n",
       "\n",
       "    .dataframe tbody tr th {\n",
       "        vertical-align: top;\n",
       "    }\n",
       "\n",
       "    .dataframe thead th {\n",
       "        text-align: right;\n",
       "    }\n",
       "</style>\n",
       "<table border=\"1\" class=\"dataframe\">\n",
       "  <thead>\n",
       "    <tr style=\"text-align: right;\">\n",
       "      <th></th>\n",
       "      <th>pH</th>\n",
       "      <th>Oxygen</th>\n",
       "      <th>Chloride</th>\n",
       "      <th>Nitrates</th>\n",
       "      <th>Ammonium</th>\n",
       "      <th>Orthophosphate</th>\n",
       "      <th>Phosphate</th>\n",
       "      <th>Chlorophyll</th>\n",
       "      <th>fluid_velocity</th>\n",
       "      <th>river_depth</th>\n",
       "      <th>season</th>\n",
       "    </tr>\n",
       "    <tr>\n",
       "      <th>date</th>\n",
       "      <th></th>\n",
       "      <th></th>\n",
       "      <th></th>\n",
       "      <th></th>\n",
       "      <th></th>\n",
       "      <th></th>\n",
       "      <th></th>\n",
       "      <th></th>\n",
       "      <th></th>\n",
       "      <th></th>\n",
       "      <th></th>\n",
       "    </tr>\n",
       "  </thead>\n",
       "  <tbody>\n",
       "    <tr>\n",
       "      <th>2018-09-30</th>\n",
       "      <td>8.10</td>\n",
       "      <td>11.4</td>\n",
       "      <td>40.02</td>\n",
       "      <td>5.33</td>\n",
       "      <td>346.67</td>\n",
       "      <td>125.67</td>\n",
       "      <td>187.06</td>\n",
       "      <td>15.6</td>\n",
       "      <td>medium</td>\n",
       "      <td>low</td>\n",
       "      <td>autumn</td>\n",
       "    </tr>\n",
       "    <tr>\n",
       "      <th>2018-10-05</th>\n",
       "      <td>8.06</td>\n",
       "      <td>9.0</td>\n",
       "      <td>55.35</td>\n",
       "      <td>10.42</td>\n",
       "      <td>233.70</td>\n",
       "      <td>58.22</td>\n",
       "      <td>97.58</td>\n",
       "      <td>10.5</td>\n",
       "      <td>medium</td>\n",
       "      <td>low</td>\n",
       "      <td>autumn</td>\n",
       "    </tr>\n",
       "    <tr>\n",
       "      <th>2018-10-07</th>\n",
       "      <td>8.05</td>\n",
       "      <td>10.6</td>\n",
       "      <td>59.07</td>\n",
       "      <td>4.99</td>\n",
       "      <td>205.67</td>\n",
       "      <td>44.67</td>\n",
       "      <td>77.43</td>\n",
       "      <td>6.9</td>\n",
       "      <td>high</td>\n",
       "      <td>low</td>\n",
       "      <td>autumn</td>\n",
       "    </tr>\n",
       "    <tr>\n",
       "      <th>2018-10-09</th>\n",
       "      <td>7.55</td>\n",
       "      <td>11.5</td>\n",
       "      <td>4.70</td>\n",
       "      <td>1.32</td>\n",
       "      <td>14.75</td>\n",
       "      <td>4.25</td>\n",
       "      <td>98.25</td>\n",
       "      <td>1.1</td>\n",
       "      <td>high</td>\n",
       "      <td>low</td>\n",
       "      <td>autumn</td>\n",
       "    </tr>\n",
       "    <tr>\n",
       "      <th>2018-10-11</th>\n",
       "      <td>7.75</td>\n",
       "      <td>10.3</td>\n",
       "      <td>32.92</td>\n",
       "      <td>2.94</td>\n",
       "      <td>42.00</td>\n",
       "      <td>16.00</td>\n",
       "      <td>40.00</td>\n",
       "      <td>7.6</td>\n",
       "      <td>high</td>\n",
       "      <td>low</td>\n",
       "      <td>autumn</td>\n",
       "    </tr>\n",
       "  </tbody>\n",
       "</table>\n",
       "</div>"
      ],
      "text/plain": [
       "              pH  Oxygen  Chloride  Nitrates  Ammonium  Orthophosphate  \\\n",
       "date                                                                     \n",
       "2018-09-30  8.10    11.4     40.02      5.33    346.67          125.67   \n",
       "2018-10-05  8.06     9.0     55.35     10.42    233.70           58.22   \n",
       "2018-10-07  8.05    10.6     59.07      4.99    205.67           44.67   \n",
       "2018-10-09  7.55    11.5      4.70      1.32     14.75            4.25   \n",
       "2018-10-11  7.75    10.3     32.92      2.94     42.00           16.00   \n",
       "\n",
       "            Phosphate  Chlorophyll fluid_velocity river_depth  season  \n",
       "date                                                                   \n",
       "2018-09-30     187.06         15.6         medium         low  autumn  \n",
       "2018-10-05      97.58         10.5         medium         low  autumn  \n",
       "2018-10-07      77.43          6.9           high         low  autumn  \n",
       "2018-10-09      98.25          1.1           high         low  autumn  \n",
       "2018-10-11      40.00          7.6           high         low  autumn  "
      ]
     },
     "execution_count": 46,
     "metadata": {},
     "output_type": "execute_result"
    },
    {
     "data": {
      "text/plain": [
       "<Figure size 360x288 with 0 Axes>"
      ]
     },
     "metadata": {},
     "output_type": "display_data"
    }
   ],
   "source": [
    "import pandas as pd\n",
    "import matplotlib.pyplot as plt\n",
    "from pandas.plotting import register_matplotlib_converters\n",
    "\n",
    "plt.figure(num=1, figsize=(5,4))\n",
    "register_matplotlib_converters()\n",
    "\n",
    "algae = pd.read_csv('datasets/algae.csv', index_col='date', parse_dates=True, infer_datetime_format=True)\n",
    "algae.head()"
   ]
  },
  {
   "cell_type": "markdown",
   "metadata": {},
   "source": [
    "Considering the algae dataset:\n",
    "\n",
    "    1.How many instances?"
   ]
  },
  {
   "cell_type": "code",
   "execution_count": 4,
   "metadata": {},
   "outputs": [
    {
     "data": {
      "text/plain": [
       "200"
      ]
     },
     "execution_count": 4,
     "metadata": {},
     "output_type": "execute_result"
    }
   ],
   "source": [
    "algae.shape[0]"
   ]
  },
  {
   "cell_type": "markdown",
   "metadata": {},
   "source": [
    "    2.How many attributes? And for each type?"
   ]
  },
  {
   "cell_type": "code",
   "execution_count": 7,
   "metadata": {},
   "outputs": [
    {
     "name": "stdout",
     "output_type": "stream",
     "text": [
      "11\n"
     ]
    },
    {
     "data": {
      "text/plain": [
       "pH                float64\n",
       "Oxygen            float64\n",
       "Chloride          float64\n",
       "Nitrates          float64\n",
       "Ammonium          float64\n",
       "Orthophosphate    float64\n",
       "Phosphate         float64\n",
       "Chlorophyll       float64\n",
       "fluid_velocity     object\n",
       "river_depth        object\n",
       "season             object\n",
       "dtype: object"
      ]
     },
     "execution_count": 7,
     "metadata": {},
     "output_type": "execute_result"
    }
   ],
   "source": [
    "print(algae.shape[1])\n",
    "algae.dtypes"
   ]
  },
  {
   "cell_type": "markdown",
   "metadata": {},
   "source": [
    "    3.Explore the variable season.\n",
    "        A.What is its type?\n",
    "        B.What is its domain?"
   ]
  },
  {
   "cell_type": "code",
   "execution_count": 38,
   "metadata": {},
   "outputs": [
    {
     "name": "stdout",
     "output_type": "stream",
     "text": [
      "category\n",
      "count        200\n",
      "unique         4\n",
      "top       winter\n",
      "freq          62\n",
      "Name: season, dtype: object\n"
     ]
    },
    {
     "data": {
      "text/html": [
       "<div>\n",
       "<style scoped>\n",
       "    .dataframe tbody tr th:only-of-type {\n",
       "        vertical-align: middle;\n",
       "    }\n",
       "\n",
       "    .dataframe tbody tr th {\n",
       "        vertical-align: top;\n",
       "    }\n",
       "\n",
       "    .dataframe thead th {\n",
       "        text-align: right;\n",
       "    }\n",
       "</style>\n",
       "<table border=\"1\" class=\"dataframe\">\n",
       "  <thead>\n",
       "    <tr style=\"text-align: right;\">\n",
       "      <th></th>\n",
       "      <th>pH</th>\n",
       "      <th>Oxygen</th>\n",
       "      <th>Chloride</th>\n",
       "      <th>Nitrates</th>\n",
       "      <th>Ammonium</th>\n",
       "      <th>Orthophosphate</th>\n",
       "      <th>Phosphate</th>\n",
       "      <th>Chlorophyll</th>\n",
       "      <th>fluid_velocity</th>\n",
       "      <th>river_depth</th>\n",
       "      <th>season</th>\n",
       "    </tr>\n",
       "    <tr>\n",
       "      <th>date</th>\n",
       "      <th></th>\n",
       "      <th></th>\n",
       "      <th></th>\n",
       "      <th></th>\n",
       "      <th></th>\n",
       "      <th></th>\n",
       "      <th></th>\n",
       "      <th></th>\n",
       "      <th></th>\n",
       "      <th></th>\n",
       "      <th></th>\n",
       "    </tr>\n",
       "  </thead>\n",
       "  <tbody>\n",
       "    <tr>\n",
       "      <th>2018-09-30</th>\n",
       "      <td>8.10</td>\n",
       "      <td>11.4</td>\n",
       "      <td>40.02</td>\n",
       "      <td>5.33</td>\n",
       "      <td>346.67</td>\n",
       "      <td>125.67</td>\n",
       "      <td>187.06</td>\n",
       "      <td>15.6</td>\n",
       "      <td>medium</td>\n",
       "      <td>low</td>\n",
       "      <td>autumn</td>\n",
       "    </tr>\n",
       "    <tr>\n",
       "      <th>2018-10-05</th>\n",
       "      <td>8.06</td>\n",
       "      <td>9.0</td>\n",
       "      <td>55.35</td>\n",
       "      <td>10.42</td>\n",
       "      <td>233.70</td>\n",
       "      <td>58.22</td>\n",
       "      <td>97.58</td>\n",
       "      <td>10.5</td>\n",
       "      <td>medium</td>\n",
       "      <td>low</td>\n",
       "      <td>autumn</td>\n",
       "    </tr>\n",
       "    <tr>\n",
       "      <th>2018-10-07</th>\n",
       "      <td>8.05</td>\n",
       "      <td>10.6</td>\n",
       "      <td>59.07</td>\n",
       "      <td>4.99</td>\n",
       "      <td>205.67</td>\n",
       "      <td>44.67</td>\n",
       "      <td>77.43</td>\n",
       "      <td>6.9</td>\n",
       "      <td>high</td>\n",
       "      <td>low</td>\n",
       "      <td>autumn</td>\n",
       "    </tr>\n",
       "    <tr>\n",
       "      <th>2018-10-09</th>\n",
       "      <td>7.55</td>\n",
       "      <td>11.5</td>\n",
       "      <td>4.70</td>\n",
       "      <td>1.32</td>\n",
       "      <td>14.75</td>\n",
       "      <td>4.25</td>\n",
       "      <td>98.25</td>\n",
       "      <td>1.1</td>\n",
       "      <td>high</td>\n",
       "      <td>low</td>\n",
       "      <td>autumn</td>\n",
       "    </tr>\n",
       "    <tr>\n",
       "      <th>2018-10-11</th>\n",
       "      <td>7.75</td>\n",
       "      <td>10.3</td>\n",
       "      <td>32.92</td>\n",
       "      <td>2.94</td>\n",
       "      <td>42.00</td>\n",
       "      <td>16.00</td>\n",
       "      <td>40.00</td>\n",
       "      <td>7.6</td>\n",
       "      <td>high</td>\n",
       "      <td>low</td>\n",
       "      <td>autumn</td>\n",
       "    </tr>\n",
       "  </tbody>\n",
       "</table>\n",
       "</div>"
      ],
      "text/plain": [
       "              pH  Oxygen  Chloride  Nitrates  Ammonium  Orthophosphate  \\\n",
       "date                                                                     \n",
       "2018-09-30  8.10    11.4     40.02      5.33    346.67          125.67   \n",
       "2018-10-05  8.06     9.0     55.35     10.42    233.70           58.22   \n",
       "2018-10-07  8.05    10.6     59.07      4.99    205.67           44.67   \n",
       "2018-10-09  7.55    11.5      4.70      1.32     14.75            4.25   \n",
       "2018-10-11  7.75    10.3     32.92      2.94     42.00           16.00   \n",
       "\n",
       "            Phosphate  Chlorophyll fluid_velocity river_depth  season  \n",
       "date                                                                   \n",
       "2018-09-30     187.06         15.6         medium         low  autumn  \n",
       "2018-10-05      97.58         10.5         medium         low  autumn  \n",
       "2018-10-07      77.43          6.9           high         low  autumn  \n",
       "2018-10-09      98.25          1.1           high         low  autumn  \n",
       "2018-10-11      40.00          7.6           high         low  autumn  "
      ]
     },
     "execution_count": 38,
     "metadata": {},
     "output_type": "execute_result"
    }
   ],
   "source": [
    "print(algae['season'].dtype)\n",
    "print(algae['season'].describe())\n",
    "algae.head()"
   ]
  },
  {
   "cell_type": "markdown",
   "metadata": {},
   "source": [
    "        C.At what granularity? Is it enough?"
   ]
  },
  {
   "cell_type": "code",
   "execution_count": 29,
   "metadata": {},
   "outputs": [
    {
     "data": {
      "text/plain": [
       "[autumn, winter, spring, summer]\n",
       "Categories (4, object): [autumn, winter, spring, summer]"
      ]
     },
     "execution_count": 29,
     "metadata": {},
     "output_type": "execute_result"
    }
   ],
   "source": [
    "algae['season'].unique()"
   ]
  },
  {
   "cell_type": "markdown",
   "metadata": {},
   "source": [
    "It's divided in the 4 seasons of the year, I'd say that it can be enough if the conditions for each season doens't vary a lot in the 3 months period."
   ]
  },
  {
   "cell_type": "markdown",
   "metadata": {},
   "source": [
    "        D.Explore its distribution."
   ]
  },
  {
   "cell_type": "code",
   "execution_count": 30,
   "metadata": {},
   "outputs": [
    {
     "data": {
      "image/png": "[encoded data removed]",
      "text/plain": [
       "<Figure size 432x288 with 1 Axes>"
      ]
     },
     "metadata": {
      "needs_background": "light"
     },
     "output_type": "display_data"
    }
   ],
   "source": [
    "def bar_chart(ax: plt.Axes, xvalues: list, yvalues: list, title: str, xlabel: str, ylabel: str, percentage=False):\n",
    "    ax.set_title(title)\n",
    "    ax.set_xlabel(xlabel)\n",
    "    ax.set_ylabel(ylabel)\n",
    "    ax.set_xticklabels(xvalues, rotation=90, fontsize='small')\n",
    "    if percentage:\n",
    "        ax.set_ylim(0.0, 1.0)\n",
    "    ax.bar(xvalues, yvalues, edgecolor='grey')\n",
    "\n",
    "algae['season'] = algae['season'].astype('category')    \n",
    "\n",
    "plt.figure()    \n",
    "counts = algae['season'].value_counts()\n",
    "bar_chart(plt.gca(), counts.index, counts.values, 'season distribution', 'season', 'frequency')\n",
    "plt.show()"
   ]
  },
  {
   "cell_type": "markdown",
   "metadata": {},
   "source": [
    "    4.Explore the pH variable.\n",
    "        A.What is its type?\n",
    "        B.What is its domain and range?"
   ]
  },
  {
   "cell_type": "code",
   "execution_count": 35,
   "metadata": {},
   "outputs": [
    {
     "name": "stdout",
     "output_type": "stream",
     "text": [
      "float64\n"
     ]
    },
    {
     "data": {
      "text/plain": [
       "count    199.000000\n",
       "mean       8.011759\n",
       "std        0.598302\n",
       "min        5.600000\n",
       "25%        7.700000\n",
       "50%        8.060000\n",
       "75%        8.400000\n",
       "max        9.700000\n",
       "Name: pH, dtype: float64"
      ]
     },
     "execution_count": 35,
     "metadata": {},
     "output_type": "execute_result"
    }
   ],
   "source": [
    "print(algae['pH'].dtype)\n",
    "algae['pH'].describe()"
   ]
  },
  {
   "cell_type": "markdown",
   "metadata": {},
   "source": [
    "        C.How many missing values?"
   ]
  },
  {
   "cell_type": "code",
   "execution_count": 43,
   "metadata": {},
   "outputs": [
    {
     "name": "stdout",
     "output_type": "stream",
     "text": [
      "1\n"
     ]
    }
   ],
   "source": [
    "print(algae['pH'].isna().sum())"
   ]
  },
  {
   "cell_type": "markdown",
   "metadata": {},
   "source": [
    "        D.How is its distribution?"
   ]
  },
  {
   "cell_type": "code",
   "execution_count": 50,
   "metadata": {},
   "outputs": [
    {
     "data": {
      "image/png": "[encoded data removed]",
      "text/plain": [
       "<Figure size 432x288 with 1 Axes>"
      ]
     },
     "metadata": {
      "needs_background": "light"
     },
     "output_type": "display_data"
    }
   ],
   "source": [
    "plt.figure()\n",
    "plt.hist(algae['pH'].dropna().values, 'auto')\n",
    "plt.gca().set_title('Histogram for pH')\n",
    "plt.gca().set_xlabel('pH')\n",
    "plt.gca().set_ylabel('frequency')\n",
    "plt.show()"
   ]
  },
  {
   "cell_type": "markdown",
   "metadata": {},
   "source": [
    "        E.What about outliers?"
   ]
  },
  {
   "cell_type": "code",
   "execution_count": 65,
   "metadata": {},
   "outputs": [
    {
     "data": {
      "image/png": "[encoded data removed]",
      "text/plain": [
       "<Figure size 720x432 with 1 Axes>"
      ]
     },
     "metadata": {
      "needs_background": "light"
     },
     "output_type": "display_data"
    }
   ],
   "source": [
    "algae.boxplot(figsize=(10,6), column=['pH'])\n",
    "plt.show()"
   ]
  },
  {
   "cell_type": "markdown",
   "metadata": {},
   "source": [
    "There aren't many outliers as showed above."
   ]
  }
 ],
 "metadata": {
  "kernelspec": {
   "display_name": "Python 3",
   "language": "python",
   "name": "python3"
  },
  "language_info": {
   "codemirror_mode": {
    "name": "ipython",
    "version": 3
   },
   "file_extension": ".py",
   "mimetype": "text/x-python",
   "name": "python",
   "nbconvert_exporter": "python",
   "pygments_lexer": "ipython3",
   "version": "3.7.3"
  }
 },
 "nbformat": 4,
 "nbformat_minor": 2
}
