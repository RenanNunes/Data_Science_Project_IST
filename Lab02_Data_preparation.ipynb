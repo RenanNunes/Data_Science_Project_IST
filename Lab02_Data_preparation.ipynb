{
 "cells": [
  {
   "cell_type": "markdown",
   "metadata": {},
   "source": [
    "# Lab 2 - Data Preparation"
   ]
  },
  {
   "cell_type": "markdown",
   "metadata": {},
   "source": [
    "Professor's suggestion: do the average of the 3 records of each pacient\n",
    "\n",
    "Professor's suggestion 2: do undersampling for the second dataset"
   ]
  },
  {
   "cell_type": "markdown",
   "metadata": {},
   "source": [
    "## Missing Values Inputation and Variable Dummification\n",
    "\n",
    "As we saw before, there are no missing values and all variables are numeric, so there is no need for these treatments."
   ]
  },
  {
   "cell_type": "markdown",
   "metadata": {},
   "source": [
    "## Normalization\n",
    "The variables have different scales, which can influentiate the models, that's why we will normalize the data."
   ]
  },
  {
   "cell_type": "code",
   "execution_count": null,
   "metadata": {},
   "outputs": [],
   "source": [
    "import pandas as pd\n",
    "import numpy as np\n",
    "from imblearn.over_sampling import SMOTE\n",
    "\n",
    "data = pd.read_csv('datasets/pd_data_exploration.csv', sep=',', decimal='.')\n",
    "data.head()"
   ]
  },
  {
   "cell_type": "code",
   "execution_count": null,
   "metadata": {},
   "outputs": [],
   "source": [
    "# normalization per feature\n",
    "norm_data = (data-data.min())/(data.max()-data.min())\n",
    "print('Number of records of the majority class:', len(norm_data[norm_data['class']==1]))\n",
    "norm_data.head()"
   ]
  },
  {
   "cell_type": "markdown",
   "metadata": {},
   "source": [
    "## Data balancing\n",
    "The number of samples with Parkinson is different than the number without by a reasonable amount (more than double), therefore it's necessary to balance. And, since the total number of samples is too little for the number of features, the method that will be utilized is oversampling."
   ]
  },
  {
   "cell_type": "code",
   "execution_count": null,
   "metadata": {
    "scrolled": false
   },
   "outputs": [],
   "source": [
    "RANDOM_STATE = 42\n",
    "smote = SMOTE(ratio='minority', random_state=RANDOM_STATE)\n",
    "y = norm_data.pop('class').values\n",
    "X = norm_data.values\n",
    "smote_x, smote_y = smote.fit_sample(X, y)\n",
    "smote_target_count = pd.Series(smote_y).value_counts()\n",
    "smote_target_count"
   ]
  },
  {
   "cell_type": "code",
   "execution_count": null,
   "metadata": {},
   "outputs": [],
   "source": [
    "oversampled = pd.concat([pd.DataFrame(smote_x),pd.DataFrame(smote_y)], axis=1)\n",
    "oversampled.columns = data.columns\n",
    "oversampled.to_csv('datasets/pd_data_preparation.csv')"
   ]
  }
 ],
 "metadata": {
  "kernelspec": {
   "display_name": "Python 3",
   "language": "python",
   "name": "python3"
  },
  "language_info": {
   "codemirror_mode": {
    "name": "ipython",
    "version": 3
   },
   "file_extension": ".py",
   "mimetype": "text/x-python",
   "name": "python",
   "nbconvert_exporter": "python",
   "pygments_lexer": "ipython3",
   "version": "3.7.3"
  }
 },
 "nbformat": 4,
 "nbformat_minor": 2
}
