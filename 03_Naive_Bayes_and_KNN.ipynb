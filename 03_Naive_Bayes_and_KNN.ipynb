{
 "cells": [
  {
   "cell_type": "markdown",
   "metadata": {},
   "source": [
    "# Lab 3 - Naive Bayes and KNN\n",
    "Here, we are going to analyse two models: Naive Bayes and KNN\n",
    "\n",
    "Observation: to test them, it's going to be used **k fold cross-validation** with repetition (RepeatedStratifiedKFold), because of the low number of records of the dataset."
   ]
  },
  {
   "cell_type": "code",
   "execution_count": 1,
   "metadata": {},
   "outputs": [],
   "source": [
    "import numpy as np\n",
    "import pandas as pd\n",
    "import matplotlib.pyplot as plt\n",
    "from sklearn.model_selection import RepeatedStratifiedKFold\n",
    "import sklearn.metrics as metrics\n",
    "import itertools\n",
    "import matplotlib.pyplot as plt"
   ]
  },
  {
   "cell_type": "code",
   "execution_count": 2,
   "metadata": {},
   "outputs": [
    {
     "data": {
      "text/html": [
       "<div>\n",
       "<style scoped>\n",
       "    .dataframe tbody tr th:only-of-type {\n",
       "        vertical-align: middle;\n",
       "    }\n",
       "\n",
       "    .dataframe tbody tr th {\n",
       "        vertical-align: top;\n",
       "    }\n",
       "\n",
       "    .dataframe thead th {\n",
       "        text-align: right;\n",
       "    }\n",
       "</style>\n",
       "<table border=\"1\" class=\"dataframe\">\n",
       "  <thead>\n",
       "    <tr style=\"text-align: right;\">\n",
       "      <th></th>\n",
       "      <th>gender</th>\n",
       "      <th>PPE</th>\n",
       "      <th>DFA</th>\n",
       "      <th>RPDE</th>\n",
       "      <th>numPulses</th>\n",
       "      <th>stdDevPeriodPulses</th>\n",
       "      <th>locPctJitter</th>\n",
       "      <th>locShimmer</th>\n",
       "      <th>meanAutoCorrHarmonicity</th>\n",
       "      <th>minIntensity</th>\n",
       "      <th>...</th>\n",
       "      <th>tqwt_kurtosisValue_dec_20</th>\n",
       "      <th>tqwt_kurtosisValue_dec_21</th>\n",
       "      <th>tqwt_kurtosisValue_dec_22</th>\n",
       "      <th>tqwt_kurtosisValue_dec_23</th>\n",
       "      <th>tqwt_kurtosisValue_dec_24</th>\n",
       "      <th>tqwt_kurtosisValue_dec_25</th>\n",
       "      <th>tqwt_kurtosisValue_dec_26</th>\n",
       "      <th>tqwt_kurtosisValue_dec_27</th>\n",
       "      <th>tqwt_kurtosisValue_dec_28</th>\n",
       "      <th>tqwt_kurtosisValue_dec_30</th>\n",
       "    </tr>\n",
       "    <tr>\n",
       "      <th>id</th>\n",
       "      <th></th>\n",
       "      <th></th>\n",
       "      <th></th>\n",
       "      <th></th>\n",
       "      <th></th>\n",
       "      <th></th>\n",
       "      <th></th>\n",
       "      <th></th>\n",
       "      <th></th>\n",
       "      <th></th>\n",
       "      <th></th>\n",
       "      <th></th>\n",
       "      <th></th>\n",
       "      <th></th>\n",
       "      <th></th>\n",
       "      <th></th>\n",
       "      <th></th>\n",
       "      <th></th>\n",
       "      <th></th>\n",
       "      <th></th>\n",
       "      <th></th>\n",
       "    </tr>\n",
       "  </thead>\n",
       "  <tbody>\n",
       "    <tr>\n",
       "      <th>0</th>\n",
       "      <td>1.0</td>\n",
       "      <td>0.916232</td>\n",
       "      <td>0.475707</td>\n",
       "      <td>0.590235</td>\n",
       "      <td>0.284974</td>\n",
       "      <td>0.022323</td>\n",
       "      <td>0.075900</td>\n",
       "      <td>0.271284</td>\n",
       "      <td>0.944323</td>\n",
       "      <td>0.692855</td>\n",
       "      <td>...</td>\n",
       "      <td>0.075621</td>\n",
       "      <td>0.300582</td>\n",
       "      <td>0.105270</td>\n",
       "      <td>0.013066</td>\n",
       "      <td>0.004055</td>\n",
       "      <td>0.003293</td>\n",
       "      <td>0.000374</td>\n",
       "      <td>0.000178</td>\n",
       "      <td>0.000191</td>\n",
       "      <td>0.098628</td>\n",
       "    </tr>\n",
       "    <tr>\n",
       "      <th>1</th>\n",
       "      <td>0.0</td>\n",
       "      <td>0.182314</td>\n",
       "      <td>0.806469</td>\n",
       "      <td>0.630075</td>\n",
       "      <td>0.242228</td>\n",
       "      <td>0.689703</td>\n",
       "      <td>0.247423</td>\n",
       "      <td>0.228818</td>\n",
       "      <td>0.876238</td>\n",
       "      <td>0.882924</td>\n",
       "      <td>...</td>\n",
       "      <td>0.072430</td>\n",
       "      <td>0.077755</td>\n",
       "      <td>0.174381</td>\n",
       "      <td>0.038398</td>\n",
       "      <td>0.008310</td>\n",
       "      <td>0.001114</td>\n",
       "      <td>0.001689</td>\n",
       "      <td>0.024783</td>\n",
       "      <td>0.018258</td>\n",
       "      <td>0.040204</td>\n",
       "    </tr>\n",
       "    <tr>\n",
       "      <th>2</th>\n",
       "      <td>1.0</td>\n",
       "      <td>0.877689</td>\n",
       "      <td>0.216841</td>\n",
       "      <td>0.516437</td>\n",
       "      <td>0.448187</td>\n",
       "      <td>0.033848</td>\n",
       "      <td>0.087255</td>\n",
       "      <td>0.117413</td>\n",
       "      <td>0.974092</td>\n",
       "      <td>0.871010</td>\n",
       "      <td>...</td>\n",
       "      <td>0.147429</td>\n",
       "      <td>0.038159</td>\n",
       "      <td>0.013139</td>\n",
       "      <td>0.007834</td>\n",
       "      <td>0.019385</td>\n",
       "      <td>0.000201</td>\n",
       "      <td>0.000368</td>\n",
       "      <td>0.000336</td>\n",
       "      <td>0.213153</td>\n",
       "      <td>0.120303</td>\n",
       "    </tr>\n",
       "    <tr>\n",
       "      <th>3</th>\n",
       "      <td>0.0</td>\n",
       "      <td>0.925807</td>\n",
       "      <td>0.237611</td>\n",
       "      <td>0.542708</td>\n",
       "      <td>0.785622</td>\n",
       "      <td>0.010547</td>\n",
       "      <td>0.021814</td>\n",
       "      <td>0.161006</td>\n",
       "      <td>0.983185</td>\n",
       "      <td>0.781731</td>\n",
       "      <td>...</td>\n",
       "      <td>0.016141</td>\n",
       "      <td>0.161223</td>\n",
       "      <td>0.097629</td>\n",
       "      <td>0.037870</td>\n",
       "      <td>0.020783</td>\n",
       "      <td>0.009404</td>\n",
       "      <td>0.018881</td>\n",
       "      <td>0.003916</td>\n",
       "      <td>0.000815</td>\n",
       "      <td>0.009216</td>\n",
       "    </tr>\n",
       "    <tr>\n",
       "      <th>4</th>\n",
       "      <td>0.0</td>\n",
       "      <td>0.930451</td>\n",
       "      <td>0.757013</td>\n",
       "      <td>0.842307</td>\n",
       "      <td>0.532383</td>\n",
       "      <td>0.754983</td>\n",
       "      <td>0.148962</td>\n",
       "      <td>0.722861</td>\n",
       "      <td>0.734980</td>\n",
       "      <td>0.497109</td>\n",
       "      <td>...</td>\n",
       "      <td>0.142211</td>\n",
       "      <td>0.230036</td>\n",
       "      <td>0.117364</td>\n",
       "      <td>0.022389</td>\n",
       "      <td>0.009184</td>\n",
       "      <td>0.006695</td>\n",
       "      <td>0.009538</td>\n",
       "      <td>0.010617</td>\n",
       "      <td>0.013877</td>\n",
       "      <td>0.010267</td>\n",
       "    </tr>\n",
       "  </tbody>\n",
       "</table>\n",
       "<p>5 rows × 255 columns</p>\n",
       "</div>"
      ],
      "text/plain": [
       "    gender       PPE       DFA      RPDE  numPulses  stdDevPeriodPulses  \\\n",
       "id                                                                        \n",
       "0      1.0  0.916232  0.475707  0.590235   0.284974            0.022323   \n",
       "1      0.0  0.182314  0.806469  0.630075   0.242228            0.689703   \n",
       "2      1.0  0.877689  0.216841  0.516437   0.448187            0.033848   \n",
       "3      0.0  0.925807  0.237611  0.542708   0.785622            0.010547   \n",
       "4      0.0  0.930451  0.757013  0.842307   0.532383            0.754983   \n",
       "\n",
       "    locPctJitter  locShimmer  meanAutoCorrHarmonicity  minIntensity  ...  \\\n",
       "id                                                                   ...   \n",
       "0       0.075900    0.271284                 0.944323      0.692855  ...   \n",
       "1       0.247423    0.228818                 0.876238      0.882924  ...   \n",
       "2       0.087255    0.117413                 0.974092      0.871010  ...   \n",
       "3       0.021814    0.161006                 0.983185      0.781731  ...   \n",
       "4       0.148962    0.722861                 0.734980      0.497109  ...   \n",
       "\n",
       "    tqwt_kurtosisValue_dec_20  tqwt_kurtosisValue_dec_21  \\\n",
       "id                                                         \n",
       "0                    0.075621                   0.300582   \n",
       "1                    0.072430                   0.077755   \n",
       "2                    0.147429                   0.038159   \n",
       "3                    0.016141                   0.161223   \n",
       "4                    0.142211                   0.230036   \n",
       "\n",
       "    tqwt_kurtosisValue_dec_22  tqwt_kurtosisValue_dec_23  \\\n",
       "id                                                         \n",
       "0                    0.105270                   0.013066   \n",
       "1                    0.174381                   0.038398   \n",
       "2                    0.013139                   0.007834   \n",
       "3                    0.097629                   0.037870   \n",
       "4                    0.117364                   0.022389   \n",
       "\n",
       "    tqwt_kurtosisValue_dec_24  tqwt_kurtosisValue_dec_25  \\\n",
       "id                                                         \n",
       "0                    0.004055                   0.003293   \n",
       "1                    0.008310                   0.001114   \n",
       "2                    0.019385                   0.000201   \n",
       "3                    0.020783                   0.009404   \n",
       "4                    0.009184                   0.006695   \n",
       "\n",
       "    tqwt_kurtosisValue_dec_26  tqwt_kurtosisValue_dec_27  \\\n",
       "id                                                         \n",
       "0                    0.000374                   0.000178   \n",
       "1                    0.001689                   0.024783   \n",
       "2                    0.000368                   0.000336   \n",
       "3                    0.018881                   0.003916   \n",
       "4                    0.009538                   0.010617   \n",
       "\n",
       "    tqwt_kurtosisValue_dec_28  tqwt_kurtosisValue_dec_30  \n",
       "id                                                        \n",
       "0                    0.000191                   0.098628  \n",
       "1                    0.018258                   0.040204  \n",
       "2                    0.213153                   0.120303  \n",
       "3                    0.000815                   0.009216  \n",
       "4                    0.013877                   0.010267  \n",
       "\n",
       "[5 rows x 255 columns]"
      ]
     },
     "execution_count": 2,
     "metadata": {},
     "output_type": "execute_result"
    }
   ],
   "source": [
    "data: pd.DataFrame = pd.read_csv('datasets/pd_data_preparation.csv', sep=',', decimal='.', index_col='id')\n",
    "y: np.ndarray = data.pop('class').values\n",
    "X: np.ndarray = data.values\n",
    "labels = pd.unique(y)\n",
    "\n",
    "data.head()"
   ]
  },
  {
   "cell_type": "markdown",
   "metadata": {},
   "source": [
    "## Naive Bayes\n",
    "Using Z normalization can help a little"
   ]
  },
  {
   "cell_type": "code",
   "execution_count": 3,
   "metadata": {},
   "outputs": [],
   "source": [
    "from sklearn.naive_bayes import GaussianNB, MultinomialNB, BernoulliNB\n",
    "\n",
    "CMAP = plt.cm.Blues\n",
    "\n",
    "def plot_confusion_matrix(ax: plt.Axes, cnf_matrix: np.ndarray, classes_names: list, normalize: bool = False, title_complement = ''):\n",
    "    if normalize:\n",
    "        total = cnf_matrix.sum(axis=1)[:, np.newaxis]\n",
    "        cm = cnf_matrix.astype('float') / total\n",
    "        title = 'Normalized confusion matrix ' + title_complement\n",
    "    else:\n",
    "        cm = cnf_matrix\n",
    "        title = 'Confusion matrix ' + title_complement\n",
    "    np.set_printoptions(precision=2)\n",
    "    tick_marks = np.arange(0, len(classes_names), 1)\n",
    "    ax.set_title(title)\n",
    "    ax.set_ylabel('True label')\n",
    "    ax.set_xlabel('Predicted label')\n",
    "    ax.set_xticks(tick_marks)\n",
    "    ax.set_yticks(tick_marks)\n",
    "    ax.set_xticklabels(classes_names)\n",
    "    ax.set_yticklabels(classes_names)\n",
    "    ax.imshow(cm, interpolation='nearest', cmap=CMAP)\n",
    "\n",
    "    fmt = '.2f' if normalize else 'd'\n",
    "    for i, j in itertools.product(range(cm.shape[0]), range(cm.shape[1])):\n",
    "        ax.text(j, i, format(cm[i, j], fmt), horizontalalignment=\"center\")"
   ]
  },
  {
   "cell_type": "code",
   "execution_count": 11,
   "metadata": {
    "scrolled": false
   },
   "outputs": [
    {
     "name": "stdout",
     "output_type": "stream",
     "text": [
      "Accuracy for: GaussianNB : 0.7828\n",
      "Sensitivity for: GaussianNB : 0.7199\n"
     ]
    },
    {
     "data": {
      "image/png": "[encoded data removed]",
      "text/plain": [
       "<Figure size 576x288 with 2 Axes>"
      ]
     },
     "metadata": {
      "needs_background": "light"
     },
     "output_type": "display_data"
    },
    {
     "name": "stdout",
     "output_type": "stream",
     "text": [
      "Accuracy for: MultinomialNB : 0.7349\n",
      "Sensitivity for: MultinomialNB : 0.7518\n"
     ]
    },
    {
     "data": {
      "image/png": "[encoded data removed]",
      "text/plain": [
       "<Figure size 576x288 with 2 Axes>"
      ]
     },
     "metadata": {
      "needs_background": "light"
     },
     "output_type": "display_data"
    },
    {
     "name": "stdout",
     "output_type": "stream",
     "text": [
      "Accuracy for: BernoulyNB : 0.5390\n",
      "Sensitivity for: BernoulyNB : 0.3670\n"
     ]
    },
    {
     "data": {
      "image/png": "[encoded data removed]",
      "text/plain": [
       "<Figure size 576x288 with 2 Axes>"
      ]
     },
     "metadata": {
      "needs_background": "light"
     },
     "output_type": "display_data"
    }
   ],
   "source": [
    "estimators = {'GaussianNB': GaussianNB(), \n",
    "              'MultinomialNB': MultinomialNB(), \n",
    "              'BernoulyNB': BernoulliNB()}\n",
    "\n",
    "#todo: review names variables and code\n",
    "accuracy = {}\n",
    "sensitivity = {}\n",
    "cnf_mtx = {}\n",
    "for clf in estimators:\n",
    "    accuracy[clf] = 0\n",
    "    sensitivity[clf] = 0\n",
    "    cnf_mtx[clf] = np.zeros((2, 2)).astype(int)\n",
    "\n",
    "n_splits = 4\n",
    "n_repeats = 3\n",
    "\n",
    "rskf = RepeatedStratifiedKFold(n_splits, n_repeats, random_state=42)\n",
    "\n",
    "for train_index, test_index in rskf.split(X, y):\n",
    "    X_train, X_test = X[train_index], X[test_index]\n",
    "    y_train, y_test = y[train_index], y[test_index]\n",
    "    for clf in estimators:\n",
    "        estimators[clf].fit(X_train, y_train)\n",
    "        prdY = estimators[clf].predict(X_test)\n",
    "        accuracy[clf] += metrics.accuracy_score(y_test, prdY)\n",
    "        sensitivity[clf] += metrics.recall_score(y_test, prdY)\n",
    "        cnf_mtx[clf] += metrics.confusion_matrix(y_test, prdY, labels)\n",
    "for clf in estimators:\n",
    "    accuracy[clf] /= n_splits*n_repeats\n",
    "    sensitivity[clf] /= n_splits*n_repeats\n",
    "    print(\"Accuracy for:\", clf, ':', format(accuracy[clf], '.4f'))\n",
    "    print(\"Sensitivity for:\", clf, ':', format(sensitivity[clf], '.4f'))\n",
    "    fig, axs = plt.subplots(1, 2, figsize=(8, 4), squeeze=False)\n",
    "    plot_confusion_matrix(axs[0, 0], cnf_mtx[clf], labels, title_complement=('- ' + clf))\n",
    "    plot_confusion_matrix(axs[0, 1], cnf_mtx[clf], labels, normalize=True, title_complement=('- ' + clf))\n",
    "    plt.tight_layout()\n",
    "    plt.show()"
   ]
  },
  {
   "cell_type": "markdown",
   "metadata": {},
   "source": [
    "So, we can use the Gaussian Naive Bayes (with 4 folds and 3 repetitions) as our baseline, with accuracy around 0,7828."
   ]
  },
  {
   "cell_type": "markdown",
   "metadata": {},
   "source": [
    "## KNN\n",
    "We can try use weights as well"
   ]
  },
  {
   "cell_type": "code",
   "execution_count": 5,
   "metadata": {},
   "outputs": [
    {
     "data": {
      "image/png": "[encoded data removed]",
      "text/plain": [
       "<Figure size 432x288 with 1 Axes>"
      ]
     },
     "metadata": {
      "needs_background": "light"
     },
     "output_type": "display_data"
    }
   ],
   "source": [
    "from sklearn.neighbors import KNeighborsClassifier\n",
    "\n",
    "def multiple_line_chart(ax: plt.Axes, xvalues: list, yvalues: dict, title: str, xlabel: str, ylabel: str, percentage=False):\n",
    "    legend: list = []\n",
    "    ax.set_title(title)\n",
    "    ax.set_xlabel(xlabel)\n",
    "    ax.set_ylabel(ylabel)\n",
    "    if percentage:\n",
    "        ax.set_ylim(0.0, 1.0)\n",
    "\n",
    "    for name, y in yvalues.items():\n",
    "        ax.plot(xvalues, y)\n",
    "        legend.append(name)\n",
    "    ax.legend(legend, loc='best', fancybox = True, shadow = True)\n",
    "\n",
    "n_splits = 4\n",
    "n_repeats = 3\n",
    "nvalues = [1, 3, 5, 7, 9, 11, 13, 15, 17, 19]\n",
    "dist = ['manhattan', 'euclidean', 'chebyshev']\n",
    "values = {}\n",
    "recall = {}\n",
    "for d in dist:\n",
    "    values[d] = np.zeros(len(nvalues))\n",
    "    recall[d] = np.zeros(len(nvalues))\n",
    "\n",
    "rskf = RepeatedStratifiedKFold(n_splits, n_repeats, random_state=42)\n",
    "\n",
    "for train_index, test_index in rskf.split(X, y):\n",
    "    X_train, X_test = X[train_index], X[test_index]\n",
    "    y_train, y_test = y[train_index], y[test_index]\n",
    "    for d in dist:\n",
    "        yvalues = []\n",
    "        recall_values = []\n",
    "        for n in nvalues:\n",
    "            knn = KNeighborsClassifier(n_neighbors=n, metric=d)\n",
    "            knn.fit(X_train, y_train)\n",
    "            prdY = knn.predict(X_test)\n",
    "            yvalues.append(metrics.accuracy_score(y_test, prdY))\n",
    "            recall_values.append(metrics.recall_score(y_test, prdY))\n",
    "        values[d] += yvalues\n",
    "        recall[d] += recall_values\n",
    "for d in dist:\n",
    "    values[d] /= (n_splits*n_repeats)\n",
    "    recall[d] /= (n_splits*n_repeats)\n",
    "plt.figure()\n",
    "multiple_line_chart(plt.gca(), nvalues, values, 'KNN variants', 'n', 'accuracy', percentage=True)\n",
    "plt.show()"
   ]
  },
  {
   "cell_type": "markdown",
   "metadata": {},
   "source": [
    "Manhattan distance resulted in the best accuracy, especially with lower numbers of neighbours."
   ]
  },
  {
   "cell_type": "code",
   "execution_count": 6,
   "metadata": {},
   "outputs": [
    {
     "name": "stdout",
     "output_type": "stream",
     "text": [
      "Accuracy for n equal to 1 : 0.8528\n",
      "Sensitivity for n equal to 1 : 0.7252 \n",
      "\n",
      "Accuracy for n equal to 3 : 0.8156\n",
      "Sensitivity for n equal to 3 : 0.6667 \n",
      "\n",
      "Accuracy for n equal to 5 : 0.7934\n",
      "Sensitivity for n equal to 5 : 0.6312 \n",
      "\n",
      "Accuracy for n equal to 7 : 0.7810\n",
      "Sensitivity for n equal to 7 : 0.5940 \n",
      "\n",
      "Accuracy for n equal to 9 : 0.7598\n",
      "Sensitivity for n equal to 9 : 0.5638 \n",
      "\n",
      "Accuracy for n equal to 11 : 0.7500\n",
      "Sensitivity for n equal to 11 : 0.5585 \n",
      "\n",
      "Accuracy for n equal to 13 : 0.7385\n",
      "Sensitivity for n equal to 13 : 0.5496 \n",
      "\n",
      "Accuracy for n equal to 15 : 0.7367\n",
      "Sensitivity for n equal to 15 : 0.5461 \n",
      "\n",
      "Accuracy for n equal to 17 : 0.7261\n",
      "Sensitivity for n equal to 17 : 0.5319 \n",
      "\n",
      "Accuracy for n equal to 19 : 0.7181\n",
      "Sensitivity for n equal to 19 : 0.5266 \n",
      "\n"
     ]
    }
   ],
   "source": [
    "for aux in range(len(values['manhattan'])):\n",
    "    print('Accuracy for n equal to', nvalues[aux], ':', format(values['manhattan'][aux], '.4f'))\n",
    "    print('Sensitivity for n equal to', nvalues[aux], ':', format(recall['manhattan'][aux], '.4f'), '\\n')"
   ]
  },
  {
   "cell_type": "markdown",
   "metadata": {},
   "source": [
    "KNN with K=1 may result in model too sensitive to outliers, so it may not be the best result. Having more features than records can be one problem, therefore it will be tested the accuracy if we use just the features used for the sparsity plots on 01_Data_exploration."
   ]
  },
  {
   "cell_type": "code",
   "execution_count": 9,
   "metadata": {},
   "outputs": [
    {
     "data": {
      "image/png": "[encoded data removed]",
      "text/plain": [
       "<Figure size 432x288 with 1 Axes>"
      ]
     },
     "metadata": {
      "needs_background": "light"
     },
     "output_type": "display_data"
    },
    {
     "name": "stdout",
     "output_type": "stream",
     "text": [
      "Accuracy for n equal to 1 : 0.8262\n",
      "Sensitivity for n equal to 1 : 0.7447 \n",
      "\n",
      "Accuracy for n equal to 3 : 0.8147\n",
      "Sensitivity for n equal to 3 : 0.7394 \n",
      "\n",
      "Accuracy for n equal to 5 : 0.7996\n",
      "Sensitivity for n equal to 5 : 0.7216 \n",
      "\n",
      "Accuracy for n equal to 7 : 0.7677\n",
      "Sensitivity for n equal to 7 : 0.7074 \n",
      "\n",
      "Accuracy for n equal to 9 : 0.7624\n",
      "Sensitivity for n equal to 9 : 0.7092 \n",
      "\n",
      "Accuracy for n equal to 11 : 0.7562\n",
      "Sensitivity for n equal to 11 : 0.6968 \n",
      "\n",
      "Accuracy for n equal to 13 : 0.7562\n",
      "Sensitivity for n equal to 13 : 0.6986 \n",
      "\n",
      "Accuracy for n equal to 15 : 0.7571\n",
      "Sensitivity for n equal to 15 : 0.6879 \n",
      "\n",
      "Accuracy for n equal to 17 : 0.7491\n",
      "Sensitivity for n equal to 17 : 0.6667 \n",
      "\n",
      "Accuracy for n equal to 19 : 0.7349\n",
      "Sensitivity for n equal to 19 : 0.6525 \n",
      "\n"
     ]
    }
   ],
   "source": [
    "data_test: pd.DataFrame = pd.read_csv('datasets/pd_data_preparation.csv', sep=',', decimal='.', index_col='id')\n",
    "data_test = data_test[['gender', 'PPE', 'DFA', 'RPDE', 'numPulses', 'locPctJitter', 'locShimmer', 'f1', 'mean_MFCC_2nd_coef', 'mean_MFCC_5th_coef', 'std_Log_energy', 'tqwt_energy_dec_17', 'class']]\n",
    "y_2: np.ndarray = data_test.pop('class').values\n",
    "X_2: np.ndarray = data_test.values\n",
    "\n",
    "n_splits = 4\n",
    "n_repeats = 3\n",
    "nvalues = [1, 3, 5, 7, 9, 11, 13, 15, 17, 19]\n",
    "dist = ['manhattan', 'euclidean', 'chebyshev']\n",
    "values = {}\n",
    "recall = {}\n",
    "for d in dist:\n",
    "    values[d] = np.zeros(len(nvalues))\n",
    "    recall[d] = np.zeros(len(nvalues))\n",
    "\n",
    "rskf = RepeatedStratifiedKFold(n_splits, n_repeats, random_state=42)\n",
    "\n",
    "for train_index, test_index in rskf.split(X, y):\n",
    "    X_train, X_test = X_2[train_index], X_2[test_index]\n",
    "    y_train, y_test = y_2[train_index], y_2[test_index]\n",
    "    for d in dist:\n",
    "        yvalues = []\n",
    "        recall_values = []\n",
    "        for n in nvalues:\n",
    "            knn = KNeighborsClassifier(n_neighbors=n, metric=d)\n",
    "            knn.fit(X_train, y_train)\n",
    "            prdY = knn.predict(X_test)\n",
    "            yvalues.append(metrics.accuracy_score(y_test, prdY))\n",
    "            recall_values.append(metrics.recall_score(y_test, prdY))\n",
    "        values[d] += yvalues\n",
    "        recall[d] += recall_values\n",
    "for d in dist:\n",
    "    values[d] /= (n_splits*n_repeats)\n",
    "    recall[d] /= (n_splits*n_repeats)\n",
    "plt.figure()\n",
    "multiple_line_chart(plt.gca(), nvalues, values, 'KNN variants', 'n', 'accuracy', percentage=True)\n",
    "plt.show()\n",
    "\n",
    "for aux in range(len(values['manhattan'])):\n",
    "    print('Accuracy for n equal to', nvalues[aux], ':', format(values['manhattan'][aux], '.4f'))\n",
    "    print('Sensitivity for n equal to', nvalues[aux], ':', format(recall['manhattan'][aux], '.4f'), '\\n')"
   ]
  },
  {
   "cell_type": "markdown",
   "metadata": {},
   "source": [
    "With these features, the accuracy is a little worse, but there is a gain on sensitivity, which is important for a medical problem, since we would rather get false positives than false negatives.\n",
    "\n",
    "Another consideration: the K = 1 can indicate that each feature contribute a little to the result, then getting only the nearest neighbour results the best prediction in this case."
   ]
  }
 ],
 "metadata": {
  "kernelspec": {
   "display_name": "Python 3",
   "language": "python",
   "name": "python3"
  },
  "language_info": {
   "codemirror_mode": {
    "name": "ipython",
    "version": 3
   },
   "file_extension": ".py",
   "mimetype": "text/x-python",
   "name": "python",
   "nbconvert_exporter": "python",
   "pygments_lexer": "ipython3",
   "version": "3.7.3"
  }
 },
 "nbformat": 4,
 "nbformat_minor": 2
}
