{
 "cells": [
  {
   "cell_type": "markdown",
   "metadata": {},
   "source": [
    "# Lab 8 - Feature Selection and Principal Component Analysis (PCA)\n",
    "\n",
    "Here, we will analyze the impact of dimensionality by running one model with some selected features and then with some extracted features. The model selected is Gradient Boosting with the estimators considered the \"best\" on the lab_05 tests, because it gave us the best results so far."
   ]
  },
  {
   "cell_type": "code",
   "execution_count": 1,
   "metadata": {},
   "outputs": [],
   "source": [
    "import os\n",
    "import sys\n",
    "module_path = os.path.abspath(os.path.join('..'))\n",
    "if module_path not in sys.path:\n",
    "    sys.path.append(module_path)"
   ]
  },
  {
   "cell_type": "code",
   "execution_count": 2,
   "metadata": {},
   "outputs": [],
   "source": [
    "import numpy as np\n",
    "import pandas as pd\n",
    "import matplotlib.pyplot as plt\n",
    "from sklearn.feature_selection import chi2, f_classif, mutual_info_classif, SelectKBest\n",
    "from sklearn.model_selection import RepeatedStratifiedKFold\n",
    "from sklearn.neighbors import KNeighborsClassifier\n",
    "from utils import modelAnalyzesFunctions as analyzes, graphFunctions as graph\n",
    "import sklearn.metrics as metrics\n",
    "from sklearn.decomposition import PCA"
   ]
  },
  {
   "cell_type": "code",
   "execution_count": 3,
   "metadata": {},
   "outputs": [
    {
     "data": {
      "text/html": [
       "<div>\n",
       "<style scoped>\n",
       "    .dataframe tbody tr th:only-of-type {\n",
       "        vertical-align: middle;\n",
       "    }\n",
       "\n",
       "    .dataframe tbody tr th {\n",
       "        vertical-align: top;\n",
       "    }\n",
       "\n",
       "    .dataframe thead th {\n",
       "        text-align: right;\n",
       "    }\n",
       "</style>\n",
       "<table border=\"1\" class=\"dataframe\">\n",
       "  <thead>\n",
       "    <tr style=\"text-align: right;\">\n",
       "      <th></th>\n",
       "      <th>gender</th>\n",
       "      <th>PPE</th>\n",
       "      <th>DFA</th>\n",
       "      <th>RPDE</th>\n",
       "      <th>numPulses</th>\n",
       "      <th>stdDevPeriodPulses</th>\n",
       "      <th>locPctJitter</th>\n",
       "      <th>locShimmer</th>\n",
       "      <th>meanAutoCorrHarmonicity</th>\n",
       "      <th>meanHarmToNoiseHarmonicity</th>\n",
       "      <th>...</th>\n",
       "      <th>tqwt_kurtosisValue_dec_23</th>\n",
       "      <th>tqwt_kurtosisValue_dec_24</th>\n",
       "      <th>tqwt_kurtosisValue_dec_25</th>\n",
       "      <th>tqwt_kurtosisValue_dec_26</th>\n",
       "      <th>tqwt_kurtosisValue_dec_27</th>\n",
       "      <th>tqwt_kurtosisValue_dec_28</th>\n",
       "      <th>tqwt_kurtosisValue_dec_29</th>\n",
       "      <th>tqwt_kurtosisValue_dec_30</th>\n",
       "      <th>tqwt_kurtosisValue_dec_34</th>\n",
       "      <th>tqwt_kurtosisValue_dec_36</th>\n",
       "    </tr>\n",
       "    <tr>\n",
       "      <th>id</th>\n",
       "      <th></th>\n",
       "      <th></th>\n",
       "      <th></th>\n",
       "      <th></th>\n",
       "      <th></th>\n",
       "      <th></th>\n",
       "      <th></th>\n",
       "      <th></th>\n",
       "      <th></th>\n",
       "      <th></th>\n",
       "      <th></th>\n",
       "      <th></th>\n",
       "      <th></th>\n",
       "      <th></th>\n",
       "      <th></th>\n",
       "      <th></th>\n",
       "      <th></th>\n",
       "      <th></th>\n",
       "      <th></th>\n",
       "      <th></th>\n",
       "      <th></th>\n",
       "    </tr>\n",
       "  </thead>\n",
       "  <tbody>\n",
       "    <tr>\n",
       "      <th>0</th>\n",
       "      <td>1.0</td>\n",
       "      <td>0.916232</td>\n",
       "      <td>0.475707</td>\n",
       "      <td>0.590235</td>\n",
       "      <td>0.284974</td>\n",
       "      <td>0.022323</td>\n",
       "      <td>0.075900</td>\n",
       "      <td>0.271284</td>\n",
       "      <td>0.944323</td>\n",
       "      <td>0.626765</td>\n",
       "      <td>...</td>\n",
       "      <td>0.013066</td>\n",
       "      <td>0.004055</td>\n",
       "      <td>0.003293</td>\n",
       "      <td>0.000374</td>\n",
       "      <td>0.000178</td>\n",
       "      <td>0.000191</td>\n",
       "      <td>0.008863</td>\n",
       "      <td>0.098628</td>\n",
       "      <td>0.031079</td>\n",
       "      <td>0.218287</td>\n",
       "    </tr>\n",
       "    <tr>\n",
       "      <th>1</th>\n",
       "      <td>0.0</td>\n",
       "      <td>0.182314</td>\n",
       "      <td>0.806469</td>\n",
       "      <td>0.630075</td>\n",
       "      <td>0.242228</td>\n",
       "      <td>0.689703</td>\n",
       "      <td>0.247423</td>\n",
       "      <td>0.228818</td>\n",
       "      <td>0.876238</td>\n",
       "      <td>0.577781</td>\n",
       "      <td>...</td>\n",
       "      <td>0.038398</td>\n",
       "      <td>0.008310</td>\n",
       "      <td>0.001114</td>\n",
       "      <td>0.001689</td>\n",
       "      <td>0.024783</td>\n",
       "      <td>0.018258</td>\n",
       "      <td>0.022440</td>\n",
       "      <td>0.040204</td>\n",
       "      <td>0.058074</td>\n",
       "      <td>0.017145</td>\n",
       "    </tr>\n",
       "    <tr>\n",
       "      <th>2</th>\n",
       "      <td>1.0</td>\n",
       "      <td>0.877689</td>\n",
       "      <td>0.216841</td>\n",
       "      <td>0.516437</td>\n",
       "      <td>0.448187</td>\n",
       "      <td>0.033848</td>\n",
       "      <td>0.087255</td>\n",
       "      <td>0.117413</td>\n",
       "      <td>0.974092</td>\n",
       "      <td>0.665577</td>\n",
       "      <td>...</td>\n",
       "      <td>0.007834</td>\n",
       "      <td>0.019385</td>\n",
       "      <td>0.000201</td>\n",
       "      <td>0.000368</td>\n",
       "      <td>0.000336</td>\n",
       "      <td>0.213153</td>\n",
       "      <td>0.204655</td>\n",
       "      <td>0.120303</td>\n",
       "      <td>0.125812</td>\n",
       "      <td>0.028947</td>\n",
       "    </tr>\n",
       "    <tr>\n",
       "      <th>3</th>\n",
       "      <td>0.0</td>\n",
       "      <td>0.925807</td>\n",
       "      <td>0.237611</td>\n",
       "      <td>0.542708</td>\n",
       "      <td>0.785622</td>\n",
       "      <td>0.010547</td>\n",
       "      <td>0.021814</td>\n",
       "      <td>0.161006</td>\n",
       "      <td>0.983185</td>\n",
       "      <td>0.775315</td>\n",
       "      <td>...</td>\n",
       "      <td>0.037870</td>\n",
       "      <td>0.020783</td>\n",
       "      <td>0.009404</td>\n",
       "      <td>0.018881</td>\n",
       "      <td>0.003916</td>\n",
       "      <td>0.000815</td>\n",
       "      <td>0.002275</td>\n",
       "      <td>0.009216</td>\n",
       "      <td>0.015696</td>\n",
       "      <td>0.216241</td>\n",
       "    </tr>\n",
       "    <tr>\n",
       "      <th>4</th>\n",
       "      <td>0.0</td>\n",
       "      <td>0.930451</td>\n",
       "      <td>0.757013</td>\n",
       "      <td>0.842307</td>\n",
       "      <td>0.532383</td>\n",
       "      <td>0.754983</td>\n",
       "      <td>0.148962</td>\n",
       "      <td>0.722861</td>\n",
       "      <td>0.734980</td>\n",
       "      <td>0.314902</td>\n",
       "      <td>...</td>\n",
       "      <td>0.022389</td>\n",
       "      <td>0.009184</td>\n",
       "      <td>0.006695</td>\n",
       "      <td>0.009538</td>\n",
       "      <td>0.010617</td>\n",
       "      <td>0.013877</td>\n",
       "      <td>0.018696</td>\n",
       "      <td>0.010267</td>\n",
       "      <td>0.090744</td>\n",
       "      <td>0.662076</td>\n",
       "    </tr>\n",
       "  </tbody>\n",
       "</table>\n",
       "<p>5 rows × 350 columns</p>\n",
       "</div>"
      ],
      "text/plain": [
       "    gender       PPE       DFA      RPDE  numPulses  stdDevPeriodPulses  \\\n",
       "id                                                                        \n",
       "0      1.0  0.916232  0.475707  0.590235   0.284974            0.022323   \n",
       "1      0.0  0.182314  0.806469  0.630075   0.242228            0.689703   \n",
       "2      1.0  0.877689  0.216841  0.516437   0.448187            0.033848   \n",
       "3      0.0  0.925807  0.237611  0.542708   0.785622            0.010547   \n",
       "4      0.0  0.930451  0.757013  0.842307   0.532383            0.754983   \n",
       "\n",
       "    locPctJitter  locShimmer  meanAutoCorrHarmonicity  \\\n",
       "id                                                      \n",
       "0       0.075900    0.271284                 0.944323   \n",
       "1       0.247423    0.228818                 0.876238   \n",
       "2       0.087255    0.117413                 0.974092   \n",
       "3       0.021814    0.161006                 0.983185   \n",
       "4       0.148962    0.722861                 0.734980   \n",
       "\n",
       "    meanHarmToNoiseHarmonicity  ...  tqwt_kurtosisValue_dec_23  \\\n",
       "id                              ...                              \n",
       "0                     0.626765  ...                   0.013066   \n",
       "1                     0.577781  ...                   0.038398   \n",
       "2                     0.665577  ...                   0.007834   \n",
       "3                     0.775315  ...                   0.037870   \n",
       "4                     0.314902  ...                   0.022389   \n",
       "\n",
       "    tqwt_kurtosisValue_dec_24  tqwt_kurtosisValue_dec_25  \\\n",
       "id                                                         \n",
       "0                    0.004055                   0.003293   \n",
       "1                    0.008310                   0.001114   \n",
       "2                    0.019385                   0.000201   \n",
       "3                    0.020783                   0.009404   \n",
       "4                    0.009184                   0.006695   \n",
       "\n",
       "    tqwt_kurtosisValue_dec_26  tqwt_kurtosisValue_dec_27  \\\n",
       "id                                                         \n",
       "0                    0.000374                   0.000178   \n",
       "1                    0.001689                   0.024783   \n",
       "2                    0.000368                   0.000336   \n",
       "3                    0.018881                   0.003916   \n",
       "4                    0.009538                   0.010617   \n",
       "\n",
       "    tqwt_kurtosisValue_dec_28  tqwt_kurtosisValue_dec_29  \\\n",
       "id                                                         \n",
       "0                    0.000191                   0.008863   \n",
       "1                    0.018258                   0.022440   \n",
       "2                    0.213153                   0.204655   \n",
       "3                    0.000815                   0.002275   \n",
       "4                    0.013877                   0.018696   \n",
       "\n",
       "    tqwt_kurtosisValue_dec_30  tqwt_kurtosisValue_dec_34  \\\n",
       "id                                                         \n",
       "0                    0.098628                   0.031079   \n",
       "1                    0.040204                   0.058074   \n",
       "2                    0.120303                   0.125812   \n",
       "3                    0.009216                   0.015696   \n",
       "4                    0.010267                   0.090744   \n",
       "\n",
       "    tqwt_kurtosisValue_dec_36  \n",
       "id                             \n",
       "0                    0.218287  \n",
       "1                    0.017145  \n",
       "2                    0.028947  \n",
       "3                    0.216241  \n",
       "4                    0.662076  \n",
       "\n",
       "[5 rows x 350 columns]"
      ]
     },
     "execution_count": 3,
     "metadata": {},
     "output_type": "execute_result"
    }
   ],
   "source": [
    "data_9: pd.DataFrame = pd.read_csv('../datasets/pd_data_preparation_9.csv', sep=',', decimal='.', index_col='id')\n",
    "y_9: np.ndarray = data_9.pop('class').values\n",
    "X_9: np.ndarray = data_9.values\n",
    "labels_9 = pd.unique(y_9)\n",
    "\n",
    "data_9.head()"
   ]
  },
  {
   "cell_type": "markdown",
   "metadata": {},
   "source": [
    "## Feature Selection"
   ]
  },
  {
   "cell_type": "code",
   "execution_count": 4,
   "metadata": {},
   "outputs": [
    {
     "data": {
      "text/plain": [
       "Index(['tqwt_kurtosisValue_dec_26', 'tqwt_kurtosisValue_dec_36'], dtype='object')"
      ]
     },
     "execution_count": 4,
     "metadata": {},
     "output_type": "execute_result"
    }
   ],
   "source": [
    "selector_chi = SelectKBest(chi2, k=2)\n",
    "X_new = selector_chi.fit_transform(X_9, y_9)\n",
    "data_9.columns[selector_chi.get_support()]"
   ]
  },
  {
   "cell_type": "code",
   "execution_count": 5,
   "metadata": {},
   "outputs": [
    {
     "data": {
      "text/plain": [
       "Index(['std_8th_delta', 'std_9th_delta'], dtype='object')"
      ]
     },
     "execution_count": 5,
     "metadata": {},
     "output_type": "execute_result"
    }
   ],
   "source": [
    "selector_f = SelectKBest(f_classif, k=2)\n",
    "X_new = selector_f.fit_transform(X_9, y_9)\n",
    "data_9.columns[selector_f.get_support()]"
   ]
  },
  {
   "cell_type": "code",
   "execution_count": 6,
   "metadata": {},
   "outputs": [
    {
     "data": {
      "text/plain": [
       "Index(['maxIntensity', 'std_9th_delta'], dtype='object')"
      ]
     },
     "execution_count": 6,
     "metadata": {},
     "output_type": "execute_result"
    }
   ],
   "source": [
    "selector_mut = SelectKBest(mutual_info_classif, k=2)\n",
    "X_new = selector_mut.fit_transform(X_9, y_9)\n",
    "data_9.columns[selector_mut.get_support()]"
   ]
  },
  {
   "cell_type": "code",
   "execution_count": 7,
   "metadata": {},
   "outputs": [
    {
     "name": "stdout",
     "output_type": "stream",
     "text": [
      "Best accuracy:  0.9078014184397164\n",
      "Best sensitivity:  0.8936170212765958\n"
     ]
    }
   ],
   "source": [
    "## gradient boosting parameters\n",
    "max_depth = 3\n",
    "n_estimators = 250\n",
    "learning_rate = 0.3\n",
    "max_features = 'sqrt'\n",
    "\n",
    "n_splits = 4\n",
    "n_repeats = 3\n",
    "\n",
    "rskf = RepeatedStratifiedKFold(n_splits, n_repeats, random_state=42)\n",
    "\n",
    "accuracy_gb, sensitivity_gb = analyzes.gradient_boosting(X_9, y_9, rskf, learning_rate=learning_rate, n_estimators=n_estimators, max_depth=max_depth, max_features=max_features)\n",
    "print(\"Best accuracy: \", accuracy_gb)\n",
    "print(\"Best sensitivity: \", sensitivity_gb)"
   ]
  },
  {
   "cell_type": "code",
   "execution_count": 8,
   "metadata": {},
   "outputs": [],
   "source": [
    "def gradient_boosting_with_n_features(X, y, rskf, learning_rate, n_estimators, max_depth, max_features, n_features, estimator):\n",
    "    accuracies = np.zeros(len(n_features))\n",
    "    sensitivities = np.zeros(len(n_features))\n",
    "    for n in range(len(n_features)):\n",
    "        selector = SelectKBest(estimator, k=n_features[n])\n",
    "        X_new = selector.fit_transform(X, y)\n",
    "        acc, sens = analyzes.gradient_boosting(X_new, y, rskf, learning_rate=learning_rate, n_estimators=n_estimators, max_depth=max_depth, max_features=max_features)\n",
    "        accuracies[n] = acc\n",
    "        sensitivities[n] = sens\n",
    "    return accuracies, sensitivities"
   ]
  },
  {
   "cell_type": "code",
   "execution_count": 9,
   "metadata": {},
   "outputs": [
    {
     "data": {
      "image/png": "[encoded data removed]",
      "text/plain": [
       "<Figure size 432x288 with 2 Axes>"
      ]
     },
     "metadata": {
      "needs_background": "light"
     },
     "output_type": "display_data"
    },
    {
     "name": "stdout",
     "output_type": "stream",
     "text": [
      "Best accuracy: 0.921099290780142\n",
      "Sensitivity associated: 0.9078014184397163\n",
      "Number of features 300 \n",
      "\n",
      "Best sensitivity: 0.9095744680851063\n",
      "Accuracy associated: 0.9210992907801417\n",
      "Number of features 250 \n",
      "\n"
     ]
    }
   ],
   "source": [
    "n_features = [2, 5, 10, 15, 30, 50, 100, 150, 200, 250, 300, 350]\n",
    "\n",
    "rskf = RepeatedStratifiedKFold(n_splits, n_repeats, random_state=42)\n",
    "\n",
    "accuracies_gb_chi, sensitivities_gb_chi = gradient_boosting_with_n_features(X_9, y_9, rskf, learning_rate, n_estimators, max_depth, max_features, n_features, chi2)\n",
    "\n",
    "plt.figure()\n",
    "graph.double_line_chart_different_scales(plt.gca(), n_features, accuracies_gb_chi, sensitivities_gb_chi, 'Gradient Boosting with different number of features', 'Number of features', 'accuracy', 'sensitivity', y_interval=(0.65, 0.95), y_interval2=(0.65, 0.95))\n",
    "plt.show()\n",
    "print(\"Best accuracy:\", np.max(accuracies_gb_chi))\n",
    "print(\"Sensitivity associated:\", sensitivities_gb_chi[np.argmax(accuracies_gb_chi)])\n",
    "print(\"Number of features\", n_features[np.argmax(accuracies_gb_chi)], '\\n')\n",
    "print(\"Best sensitivity:\", np.max(sensitivities_gb_chi))\n",
    "print(\"Accuracy associated:\", accuracies_gb_chi[np.argmax(sensitivities_gb_chi)])\n",
    "print(\"Number of features\", n_features[np.argmax(sensitivities_gb_chi)], '\\n')"
   ]
  },
  {
   "cell_type": "code",
   "execution_count": 10,
   "metadata": {},
   "outputs": [
    {
     "data": {
      "image/png": "[encoded data removed]",
      "text/plain": [
       "<Figure size 432x288 with 2 Axes>"
      ]
     },
     "metadata": {
      "needs_background": "light"
     },
     "output_type": "display_data"
    },
    {
     "name": "stdout",
     "output_type": "stream",
     "text": [
      "Best accuracy: 0.9166666666666666\n",
      "Sensitivity associated: 0.9184397163120567\n",
      "Number of features 300 \n",
      "\n",
      "Best sensitivity: 0.9184397163120567\n",
      "Accuracy associated: 0.9166666666666666\n",
      "Number of features 300 \n",
      "\n"
     ]
    }
   ],
   "source": [
    "rskf = RepeatedStratifiedKFold(n_splits, n_repeats, random_state=42)\n",
    "\n",
    "accuracies_gb_f, sensitivities_gb_f = gradient_boosting_with_n_features(X_9, y_9, rskf, learning_rate, n_estimators, max_depth, max_features, n_features, f_classif)\n",
    "\n",
    "plt.figure()\n",
    "graph.double_line_chart_different_scales(plt.gca(), n_features, accuracies_gb_f, sensitivities_gb_f, 'Gradient Boosting with different number of features', 'Number of features', 'accuracy', 'sensitivity', y_interval=(0.65, 0.95), y_interval2=(0.65, 0.95))\n",
    "plt.show()\n",
    "print(\"Best accuracy:\", np.max(accuracies_gb_f))\n",
    "print(\"Sensitivity associated:\", sensitivities_gb_f[np.argmax(accuracies_gb_f)])\n",
    "print(\"Number of features\", n_features[np.argmax(accuracies_gb_f)], '\\n')\n",
    "print(\"Best sensitivity:\", np.max(sensitivities_gb_f))\n",
    "print(\"Accuracy associated:\", accuracies_gb_f[np.argmax(sensitivities_gb_f)])\n",
    "print(\"Number of features\", n_features[np.argmax(sensitivities_gb_f)], '\\n')"
   ]
  },
  {
   "cell_type": "code",
   "execution_count": 11,
   "metadata": {
    "scrolled": false
   },
   "outputs": [
    {
     "data": {
      "image/png": "[encoded data removed]",
      "text/plain": [
       "<Figure size 432x288 with 2 Axes>"
      ]
     },
     "metadata": {
      "needs_background": "light"
     },
     "output_type": "display_data"
    },
    {
     "name": "stdout",
     "output_type": "stream",
     "text": [
      "Best accuracy: 0.9210992907801417\n",
      "Sensitivity associated: 0.9078014184397163\n",
      "Number of features 100 \n",
      "\n",
      "Best sensitivity: 0.9113475177304965\n",
      "Accuracy associated: 0.9193262411347517\n",
      "Number of features 350 \n",
      "\n"
     ]
    }
   ],
   "source": [
    "rskf = RepeatedStratifiedKFold(n_splits, n_repeats, random_state=42)\n",
    "\n",
    "accuracies_gb_mut, sensitivities_gb_mut = gradient_boosting_with_n_features(X_9, y_9, rskf, learning_rate, n_estimators, max_depth, max_features, n_features, mutual_info_classif)\n",
    "\n",
    "plt.figure()\n",
    "graph.double_line_chart_different_scales(plt.gca(), n_features, accuracies_gb_mut, sensitivities_gb_mut, 'Gradient Boosting with different number of features', 'Number of features', 'accuracy', 'sensitivity', y_interval=(0.65, 0.95), y_interval2=(0.65, 0.95))\n",
    "plt.show()\n",
    "print(\"Best accuracy:\", np.max(accuracies_gb_mut))\n",
    "print(\"Sensitivity associated:\", sensitivities_gb_mut[np.argmax(accuracies_gb_mut)])\n",
    "print(\"Number of features\", n_features[np.argmax(accuracies_gb_mut)], '\\n')\n",
    "print(\"Best sensitivity:\", np.max(sensitivities_gb_mut))\n",
    "print(\"Accuracy associated:\", accuracies_gb_mut[np.argmax(sensitivities_gb_mut)])\n",
    "print(\"Number of features\", n_features[np.argmax(sensitivities_gb_mut)], '\\n')"
   ]
  },
  {
   "cell_type": "markdown",
   "metadata": {},
   "source": [
    "After reaching around 100 variables, the metrics don't change much, therefore it's possible to use something around this number for this emsemble model. But, since ensemble models use the idea of combing multiple independent and diverse models (making it less likely to overfit), it makes sense that a lot of features results in better results, which would not happen in a single model. To try this hypothesis, the next test will be vary the number of features with KNN (N=1, because it got the best result on the lab_03 tests)."
   ]
  },
  {
   "cell_type": "code",
   "execution_count": 12,
   "metadata": {},
   "outputs": [
    {
     "data": {
      "image/png": "[encoded data removed]",
      "text/plain": [
       "<Figure size 432x288 with 1 Axes>"
      ]
     },
     "metadata": {
      "needs_background": "light"
     },
     "output_type": "display_data"
    },
    {
     "name": "stdout",
     "output_type": "stream",
     "text": [
      "Accuracy for n equal to 1 : 0.8342\n",
      "Sensitivity for n equal to 1 : 0.6809 \n",
      "\n",
      "Accuracy for n equal to 3 : 0.8112\n",
      "Sensitivity for n equal to 3 : 0.6454 \n",
      "\n",
      "Accuracy for n equal to 5 : 0.7988\n",
      "Sensitivity for n equal to 5 : 0.6206 \n",
      "\n",
      "Accuracy for n equal to 7 : 0.7846\n",
      "Sensitivity for n equal to 7 : 0.5993 \n",
      "\n",
      "Accuracy for n equal to 9 : 0.7713\n",
      "Sensitivity for n equal to 9 : 0.5833 \n",
      "\n",
      "Accuracy for n equal to 11 : 0.7757\n",
      "Sensitivity for n equal to 11 : 0.5904 \n",
      "\n",
      "Accuracy for n equal to 13 : 0.7677\n",
      "Sensitivity for n equal to 13 : 0.5833 \n",
      "\n",
      "Accuracy for n equal to 15 : 0.7580\n",
      "Sensitivity for n equal to 15 : 0.5816 \n",
      "\n",
      "Accuracy for n equal to 17 : 0.7509\n",
      "Sensitivity for n equal to 17 : 0.5833 \n",
      "\n",
      "Accuracy for n equal to 19 : 0.7491\n",
      "Sensitivity for n equal to 19 : 0.5851 \n",
      "\n"
     ]
    }
   ],
   "source": [
    "nvalues = [1, 3, 5, 7, 9, 11, 13, 15, 17, 19]\n",
    "dist = ['manhattan', 'euclidean', 'chebyshev']\n",
    "\n",
    "rskf = RepeatedStratifiedKFold(n_splits, n_repeats, random_state=42)\n",
    "\n",
    "accuracy_knn, sensitivity_knn = analyzes.knn_analyzes(X_9, y_9, nvalues, dist, rskf, title_complement = '- 0.9 (baseline)')"
   ]
  },
  {
   "cell_type": "code",
   "execution_count": 13,
   "metadata": {},
   "outputs": [],
   "source": [
    "def knn_with_n_features(X, y, nvalue, dist, rskf, n_features, estimator):\n",
    "    accuracies = np.zeros(len(n_features))\n",
    "    sensitivities = np.zeros(len(n_features))\n",
    "    for n in range(len(n_features)):\n",
    "        selector = SelectKBest(estimator, k=n_features[n])\n",
    "        X_new = selector.fit_transform(X, y)\n",
    "        acc, sens = analyzes.knn(X_new, y, nvalue, dist, rskf)\n",
    "        accuracies[n] = acc\n",
    "        sensitivities[n] = sens\n",
    "    return accuracies, sensitivities"
   ]
  },
  {
   "cell_type": "code",
   "execution_count": 14,
   "metadata": {},
   "outputs": [
    {
     "data": {
      "image/png": "[encoded data removed]",
      "text/plain": [
       "<Figure size 432x288 with 2 Axes>"
      ]
     },
     "metadata": {
      "needs_background": "light"
     },
     "output_type": "display_data"
    },
    {
     "name": "stdout",
     "output_type": "stream",
     "text": [
      "Best accuracy: 0.8705673758865249\n",
      "Sensitivity associated: 0.7695035460992908\n",
      "Number of features 50 \n",
      "\n",
      "Best sensitivity: 0.7943262411347519\n",
      "Accuracy associated: 0.8537234042553191\n",
      "Number of features 10 \n",
      "\n"
     ]
    }
   ],
   "source": [
    "n_features = [2, 5, 10, 15, 30, 50, 100, 150, 200, 250, 300, 350]\n",
    "\n",
    "nvalue = 1\n",
    "dist = 'manhattan'\n",
    "\n",
    "rskf = RepeatedStratifiedKFold(n_splits, n_repeats, random_state=42)\n",
    "\n",
    "accuracies_knn_chi, sensitivities_knn_chi = knn_with_n_features(X_9, y_9, nvalue, dist, rskf, n_features, chi2)\n",
    "\n",
    "plt.figure()\n",
    "graph.double_line_chart_different_scales(plt.gca(), n_features, accuracies_knn_chi, sensitivities_knn_chi, 'KNN with different number of features', 'Number of features', 'accuracy', 'sensitivity', y_interval=(0.55, 0.95), y_interval2=(0.55, 0.95))\n",
    "plt.show()\n",
    "print(\"Best accuracy:\", np.max(accuracies_knn_chi))\n",
    "print(\"Sensitivity associated:\", sensitivities_knn_chi[np.argmax(accuracies_knn_chi)])\n",
    "print(\"Number of features\", n_features[np.argmax(accuracies_knn_chi)], '\\n')\n",
    "print(\"Best sensitivity:\", np.max(sensitivities_knn_chi))\n",
    "print(\"Accuracy associated:\", accuracies_knn_chi[np.argmax(sensitivities_knn_chi)])\n",
    "print(\"Number of features\", n_features[np.argmax(sensitivities_knn_chi)], '\\n')"
   ]
  },
  {
   "cell_type": "code",
   "execution_count": 15,
   "metadata": {},
   "outputs": [
    {
     "data": {
      "image/png": "[encoded data removed]",
      "text/plain": [
       "<Figure size 432x288 with 2 Axes>"
      ]
     },
     "metadata": {
      "needs_background": "light"
     },
     "output_type": "display_data"
    },
    {
     "name": "stdout",
     "output_type": "stream",
     "text": [
      "Best accuracy: 0.8617021276595745\n",
      "Sensitivity associated: 0.7375886524822696\n",
      "Number of features 250 \n",
      "\n",
      "Best sensitivity: 0.7553191489361702\n",
      "Accuracy associated: 0.8572695035460994\n",
      "Number of features 15 \n",
      "\n"
     ]
    }
   ],
   "source": [
    "rskf = RepeatedStratifiedKFold(n_splits, n_repeats, random_state=42)\n",
    "\n",
    "accuracies_knn_f, sensitivities_knn_f = knn_with_n_features(X_9, y_9, nvalue, dist, rskf, n_features, f_classif)\n",
    "\n",
    "plt.figure()\n",
    "graph.double_line_chart_different_scales(plt.gca(), n_features, accuracies_knn_f, sensitivities_knn_f, 'KNN with different number of features', 'Number of features', 'accuracy', 'sensitivity', y_interval=(0.55, 0.95), y_interval2=(0.55, 0.95))\n",
    "plt.show()\n",
    "print(\"Best accuracy:\", np.max(accuracies_knn_f))\n",
    "print(\"Sensitivity associated:\", sensitivities_knn_f[np.argmax(accuracies_knn_f)])\n",
    "print(\"Number of features\", n_features[np.argmax(accuracies_knn_f)], '\\n')\n",
    "print(\"Best sensitivity:\", np.max(sensitivities_knn_f))\n",
    "print(\"Accuracy associated:\", accuracies_knn_f[np.argmax(sensitivities_knn_f)])\n",
    "print(\"Number of features\", n_features[np.argmax(sensitivities_knn_f)], '\\n')"
   ]
  },
  {
   "cell_type": "code",
   "execution_count": 16,
   "metadata": {},
   "outputs": [
    {
     "data": {
      "image/png": "[encoded data removed]",
      "text/plain": [
       "<Figure size 432x288 with 2 Axes>"
      ]
     },
     "metadata": {
      "needs_background": "light"
     },
     "output_type": "display_data"
    },
    {
     "name": "stdout",
     "output_type": "stream",
     "text": [
      "Best accuracy: 0.8962765957446807\n",
      "Sensitivity associated: 0.8120567375886524\n",
      "Number of features 100 \n",
      "\n",
      "Best sensitivity: 0.8120567375886524\n",
      "Accuracy associated: 0.8962765957446807\n",
      "Number of features 100 \n",
      "\n"
     ]
    }
   ],
   "source": [
    "rskf = RepeatedStratifiedKFold(n_splits, n_repeats, random_state=42)\n",
    "\n",
    "accuracies_knn_mut, sensitivities_knn_mut = knn_with_n_features(X_9, y_9, nvalue, dist, rskf, n_features, mutual_info_classif)\n",
    "\n",
    "plt.figure()\n",
    "graph.double_line_chart_different_scales(plt.gca(), n_features, accuracies_knn_mut, sensitivities_knn_mut, 'KNN with different number of features', 'Number of features', 'accuracy', 'sensitivity', y_interval=(0.55, 0.95), y_interval2=(0.55, 0.95))\n",
    "plt.show()\n",
    "print(\"Best accuracy:\", np.max(accuracies_knn_mut))\n",
    "print(\"Sensitivity associated:\", sensitivities_knn_mut[np.argmax(accuracies_knn_mut)])\n",
    "print(\"Number of features\", n_features[np.argmax(accuracies_knn_mut)], '\\n')\n",
    "print(\"Best sensitivity:\", np.max(sensitivities_knn_mut))\n",
    "print(\"Accuracy associated:\", accuracies_knn_mut[np.argmax(sensitivities_knn_mut)])\n",
    "print(\"Number of features\", n_features[np.argmax(sensitivities_knn_mut)], '\\n')"
   ]
  },
  {
   "cell_type": "markdown",
   "metadata": {},
   "source": [
    "As we mentioned, KNN didn't behave as the gradiant boosting, it even presented a decreasing sensitivity with higher values of features. This is often mencioned as the \"curse of dimensionality\", because with the increase of dimensions (features), the number of data records to represent all space grows exponencially. Therefore, the feature selection resulted in better results than the baseline (dataset without the features with +90% correlation)."
   ]
  },
  {
   "cell_type": "markdown",
   "metadata": {},
   "source": [
    "## PCA\n",
    "\n",
    "There will be created enough components to explain around 85% of the dataset variation (commonly used number of cumulative percentage explained for PCA)."
   ]
  },
  {
   "cell_type": "code",
   "execution_count": 17,
   "metadata": {},
   "outputs": [
    {
     "name": "stdout",
     "output_type": "stream",
     "text": [
      "Explained variance (ratio) = [0.15216498 0.0910425  0.05575017 0.05224917 0.03842408 0.03405618\n",
      " 0.02610794 0.02463169 0.02107328 0.02037562 0.01852077 0.01762006\n",
      " 0.01618874 0.01437347 0.01389749 0.01209213 0.01169139 0.01061298\n",
      " 0.01034962 0.00956988 0.00937208 0.00913938 0.00852757 0.00833343\n",
      " 0.00788608 0.00779839 0.00751972 0.00715467 0.00679778 0.00673504\n",
      " 0.00642866 0.0062232  0.00605935 0.0059519  0.00574814 0.00568707\n",
      " 0.00547277 0.00511924 0.00497882 0.00486822 0.00479044 0.00471937\n",
      " 0.00460359 0.00446634 0.00441054 0.00433889 0.00408039 0.00403255\n",
      " 0.00393521 0.00384788 0.00372245 0.00367916 0.00348446 0.00341682\n",
      " 0.00334496 0.00327483]\n",
      "Number of features extracted = 56\n",
      "Total explained variance = 0.8507415298889401\n"
     ]
    }
   ],
   "source": [
    "pca = PCA(n_components=0.85, svd_solver=\"full\")\n",
    "pca.fit(X_9)\n",
    "\n",
    "X_pca = pca.transform(X_9)\n",
    "\n",
    "print(\"Explained variance (ratio) =\",pca.explained_variance_ratio_)\n",
    "print(\"Number of features extracted =\", len(pca.explained_variance_ratio_))\n",
    "print(\"Total explained variance =\", np.sum(pca.explained_variance_ratio_))"
   ]
  },
  {
   "cell_type": "code",
   "execution_count": 18,
   "metadata": {},
   "outputs": [
    {
     "data": {
      "image/png": "[encoded data removed]",
      "text/plain": [
       "<Figure size 576x288 with 1 Axes>"
      ]
     },
     "metadata": {
      "needs_background": "light"
     },
     "output_type": "display_data"
    }
   ],
   "source": [
    "fig = plt.figure(figsize=(8,4))\n",
    "\n",
    "plotted_features = 10 if len(pca.explained_variance_ratio_) > 10 else len(pca.explained_variance_ratio_)\n",
    "variables = []\n",
    "for i in range(plotted_features):\n",
    "    variables.append('PCA_'+str((i+1)))\n",
    "y_pos = np.arange(len(variables))\n",
    "ratio = pca.explained_variance_ratio_[0:plotted_features]\n",
    "\n",
    "plt.bar(y_pos, ratio, align='center', alpha=0.5)\n",
    "plt.xticks(y_pos, variables)\n",
    "plt.ylabel('Explained ratio')\n",
    "plt.title('Explained variance for ' +str(plotted_features)+ ' features')\n",
    "\n",
    "plt.show()"
   ]
  },
  {
   "cell_type": "code",
   "execution_count": 19,
   "metadata": {},
   "outputs": [
    {
     "name": "stdout",
     "output_type": "stream",
     "text": [
      "Accuracy: 0.897163120567376\n",
      "Sensitivity: 0.895390070921986\n"
     ]
    }
   ],
   "source": [
    "rskf = RepeatedStratifiedKFold(n_splits, n_repeats, random_state=42)\n",
    "\n",
    "accuracy_pca_gb, sensitivity_pca_gb = analyzes.gradient_boosting(X_pca, y_9, rskf, learning_rate=learning_rate, n_estimators=n_estimators, max_depth=max_depth, max_features=max_features)\n",
    "\n",
    "print(\"Accuracy:\", accuracy_pca_gb)\n",
    "print(\"Sensitivity:\", sensitivity_pca_gb)"
   ]
  },
  {
   "cell_type": "markdown",
   "metadata": {},
   "source": [
    "The result was really similar to Gradient Boosting with the same number of features."
   ]
  },
  {
   "cell_type": "code",
   "execution_count": 20,
   "metadata": {},
   "outputs": [
    {
     "name": "stdout",
     "output_type": "stream",
     "text": [
      "Accuracy: 0.899822695035461\n",
      "Sensitivity: 0.828014184397163\n"
     ]
    }
   ],
   "source": [
    "rskf = RepeatedStratifiedKFold(n_splits, n_repeats, random_state=42)\n",
    "\n",
    "accuracy_pca_knn, sensitivity_pca_knn = analyzes.knn(X_pca, y_9, nvalue, dist, rskf)\n",
    "\n",
    "print(\"Accuracy:\", accuracy_pca_knn)\n",
    "print(\"Sensitivity:\", sensitivity_pca_knn)"
   ]
  },
  {
   "cell_type": "markdown",
   "metadata": {},
   "source": [
    "The result was really similar to KNN with the same number of features selected by the criterion with highest accuracy."
   ]
  }
 ],
 "metadata": {
  "kernelspec": {
   "display_name": "Python 3",
   "language": "python",
   "name": "python3"
  },
  "language_info": {
   "codemirror_mode": {
    "name": "ipython",
    "version": 3
   },
   "file_extension": ".py",
   "mimetype": "text/x-python",
   "name": "python",
   "nbconvert_exporter": "python",
   "pygments_lexer": "ipython3",
   "version": "3.7.3"
  }
 },
 "nbformat": 4,
 "nbformat_minor": 2
}
